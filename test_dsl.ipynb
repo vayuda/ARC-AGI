{
 "cells": [
  {
   "cell_type": "markdown",
   "metadata": {},
   "source": [
    "Test Notebook for DSL"
   ]
  },
  {
   "cell_type": "code",
   "execution_count": null,
   "metadata": {},
   "outputs": [],
   "source": [
    "from source.dsl import *\n",
    "from source.constraints import *\n",
    "from source.load_data import quick_load\n",
    "from source.segmentation import extract_objects\n",
    "from source.rand_transform import rand_transform\n",
    "from source.util import Color"
   ]
  },
  {
   "cell_type": "code",
   "execution_count": null,
   "metadata": {},
   "outputs": [],
   "source": [
    "train_objs, test_obj = quick_load('39a8645d', 'training')\n",
    "example = test_obj['input']\n",
    "example.plot_grid()\n",
    "children = extract_objects(example, method='contour_scale')"
   ]
  },
  {
   "cell_type": "code",
   "execution_count": null,
   "metadata": {},
   "outputs": [],
   "source": [
    "obj_lst, transformations = rand_transform(example)\n",
    "for o in obj_lst:\n",
    "    o.plot_grid()\n",
    "\n",
    "for key, val in transformations.items():\n",
    "    print(f'{key.__name__}: {val}')"
   ]
  },
  {
   "cell_type": "code",
   "execution_count": null,
   "metadata": {},
   "outputs": [],
   "source": [
    "# Color\n",
    "new_obj = color(example, Color.YELLOW)\n",
    "new_obj.plot_grid()"
   ]
  },
  {
   "cell_type": "code",
   "execution_count": null,
   "metadata": {},
   "outputs": [],
   "source": [
    "# Recolor\n",
    "new_obj = recolor(example, 8, 4)\n",
    "new_obj.plot_grid()"
   ]
  },
  {
   "cell_type": "code",
   "execution_count": null,
   "metadata": {},
   "outputs": [],
   "source": [
    "# Rotate\n",
    "new_obj = rotate(example)\n",
    "new_obj.plot_grid()"
   ]
  },
  {
   "cell_type": "code",
   "execution_count": null,
   "metadata": {},
   "outputs": [],
   "source": [
    "# Flip\n",
    "new_obj = flip(example)\n",
    "new_obj.plot_grid()"
   ]
  },
  {
   "cell_type": "code",
   "execution_count": null,
   "metadata": {},
   "outputs": [],
   "source": [
    "# Translate\n",
    "new_obj = translate(example, (-2, -3))\n",
    "new_obj.plot_grid()"
   ]
  },
  {
   "cell_type": "code",
   "execution_count": null,
   "metadata": {},
   "outputs": [],
   "source": [
    "# Tile\n",
    "new_obj = tile(example, children[3], (1, 1), 0)\n",
    "new_obj.plot_grid()"
   ]
  },
  {
   "cell_type": "code",
   "execution_count": null,
   "metadata": {},
   "outputs": [],
   "source": [
    "# Draw Line\n",
    "new_obj = draw_line(example, (1, 2), (15, 2), 4)\n",
    "new_obj.plot_grid()"
   ]
  }
 ],
 "metadata": {
  "kernelspec": {
   "display_name": "Python 3",
   "language": "python",
   "name": "python3"
  },
  "language_info": {
   "codemirror_mode": {
    "name": "ipython",
    "version": 3
   },
   "file_extension": ".py",
   "mimetype": "text/x-python",
   "name": "python",
   "nbconvert_exporter": "python",
   "pygments_lexer": "ipython3",
   "version": "3.12.3"
  }
 },
 "nbformat": 4,
 "nbformat_minor": 2
}
