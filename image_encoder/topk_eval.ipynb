{
 "cells": [
  {
   "cell_type": "markdown",
   "id": "4d7e1093-5938-4cb7-b0be-83348213cf7c",
   "metadata": {},
   "source": [
    "# Top-K Evaluation"
   ]
  },
  {
   "cell_type": "code",
   "execution_count": 1,
   "id": "f83b87b4-3f14-4568-aae8-5b431f617115",
   "metadata": {},
   "outputs": [
    {
     "name": "stdout",
     "output_type": "stream",
     "text": [
      "Device: cuda\n"
     ]
    }
   ],
   "source": [
    "import os\n",
    "import torch\n",
    "\n",
    "import loader as loader\n",
    "import utility as utility\n",
    "import transformers as transformers\n",
    "\n",
    "device = 'cuda' if torch.cuda.is_available() else 'cpu'\n",
    "print(f\"Device: {device}\")"
   ]
  },
  {
   "cell_type": "code",
   "execution_count": 2,
   "id": "945b3761-e63b-4f69-8b32-e29ae9025ed9",
   "metadata": {},
   "outputs": [],
   "source": [
    "loader_params = {\n",
    "    \"batch_size\": 1,\n",
    "    \"pad_images\": False,\n",
    "    \"percent_mask\": 0.0,\n",
    "    \"shuffle\": True,\n",
    "    \"place_central\": True\n",
    "}\n",
    "\n",
    "dataloader = loader.get_dataloader('dict_traindata.txt', loader_params)"
   ]
  },
  {
   "cell_type": "code",
   "execution_count": 3,
   "id": "d173232b-a4fb-4db6-8ff4-4fa16fbf80a9",
   "metadata": {},
   "outputs": [
    {
     "name": "stdout",
     "output_type": "stream",
     "text": [
      "Embedding cosine-similarity at top-5 samples:\n",
      "Model:       vit_20241108_sinusoid100k.pth || Total Accuracy: 0.477 | Avg. Sim: 0.993\n",
      "Model:        vit_20241110_sinusoid75k.pth || Total Accuracy: 0.495 | Avg. Sim: 0.998\n",
      "Model:             vit_20241117_231820.pth || Total Accuracy: 0.533 | Avg. Sim: 0.994\n",
      "Model:            vit_20241117_rope84k.pth || Total Accuracy: 0.458 | Avg. Sim: 1.000\n",
      "Model:        vit_20241117_sinusoid13k.pth || Total Accuracy: 0.477 | Avg. Sim: 0.995\n",
      "Model:    vit_20241117_sinusoid500k_v1.pth || Total Accuracy: 0.494 | Avg. Sim: 0.999\n",
      "Model:    vit_20241117_sinusoid500k_v2.pth || Total Accuracy: 0.527 | Avg. Sim: 0.999\n",
      "Model:     vit_20241117_sinusoid60k_vF.pth || Total Accuracy: 0.544 | Avg. Sim: 0.997\n",
      "Model:    vit_20241118_sinusoid125k_v1.pth || Total Accuracy: 0.562 | Avg. Sim: 0.997\n",
      "Model:    vit_20241118_sinusoid125k_vF.pth || Total Accuracy: 0.566 | Avg. Sim: 0.998\n"
     ]
    }
   ],
   "source": [
    "pth_files = [file for file in os.listdir('trained_models/') if file.endswith('.pth')]\n",
    "k = 5\n",
    "print(f\"Embedding cosine-similarity at top-{k} samples:\")\n",
    "\n",
    "for model_filename in pth_files:\n",
    "    ViT = transformers.VisionTransformer.load_model(f'trained_models/{model_filename}', print_statements=False)\n",
    "    ViT = ViT.to(device)\n",
    "    \n",
    "    # This will take some time -- it is generating CLS token embeddings for all images in the dataset\n",
    "    ids_list = []\n",
    "    images_tensor = []\n",
    "    cls_tensor = []\n",
    "    \n",
    "    with torch.no_grad():\n",
    "        ViT.eval()\n",
    "        for i, (ids, u, u_masks, v, v_masks) in enumerate(dataloader):\n",
    "            B, H, W = u.shape\n",
    "            u = u.to(device)\n",
    "    \n",
    "            cls_logits, _, _ = ViT(u, save_attn=False, temperature=1)\n",
    "    \n",
    "            ids_list.extend(ids)\n",
    "            cls_tensor.append(cls_logits[:, 0].cpu())\n",
    "            \n",
    "        cls_tensor = torch.cat(cls_tensor, dim=0)\n",
    "\n",
    "    itos = dict([(key, value) for key, value in enumerate(ids_list)])\n",
    "    stoi = dict([(key, value) for value, key in enumerate(ids_list)])\n",
    "\n",
    "    # Eval pipeline\n",
    "    attempts, correct, avg_sim, nums_checked = 0, 0, 0, 0\n",
    "    for target_id in ids_list:\n",
    "        idx = stoi[target_id]\n",
    "        closest_embeddings, closest_sims = utility.top_k_cosine_similarity(cls_tensor, idx, k+1, largest=True)\n",
    "        target_problem = target_id[:target_id.find('-')]\n",
    "    \n",
    "        attempts += 1\n",
    "        correct_for_round = 0\n",
    "        for i, sim_id_num in enumerate(closest_embeddings):\n",
    "            sim_id = itos[sim_id_num.item()]\n",
    "            if sim_id != target_id:\n",
    "                avg_sim += closest_sims[i].item()\n",
    "                nums_checked += 1\n",
    "                if sim_id[:sim_id.find('-')] == target_problem:\n",
    "                    correct_for_round += 1\n",
    "        correct += min(correct_for_round, 1) \n",
    "    \n",
    "    print(f\"Model: {model_filename:>35} || Total Accuracy: {correct/attempts:.3f} | Avg. Sim: {avg_sim/nums_checked:.3f}\")"
   ]
  }
 ],
 "metadata": {
  "kernelspec": {
   "display_name": "Python 3 (ipykernel)",
   "language": "python",
   "name": "python3"
  },
  "language_info": {
   "codemirror_mode": {
    "name": "ipython",
    "version": 3
   },
   "file_extension": ".py",
   "mimetype": "text/x-python",
   "name": "python",
   "nbconvert_exporter": "python",
   "pygments_lexer": "ipython3",
   "version": "3.11.7"
  }
 },
 "nbformat": 4,
 "nbformat_minor": 5
}
