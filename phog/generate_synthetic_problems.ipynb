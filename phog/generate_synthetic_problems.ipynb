{
 "cells": [
  {
   "cell_type": "markdown",
   "metadata": {},
   "source": [
    "# Training Our PHOG Using RandTransform and pretrained Image Encodings"
   ]
  },
  {
   "cell_type": "code",
   "execution_count": 1,
   "metadata": {},
   "outputs": [
    {
     "name": "stdout",
     "output_type": "stream",
     "text": [
      "Device: cuda\n"
     ]
    }
   ],
   "source": [
    "# Import dependencies\n",
    "import torch\n",
    "\n",
    "import pcfg_loader as loader\n",
    "import source as source\n",
    "import image_encoder as encoder\n",
    "\n",
    "device = 'cuda' if torch.cuda.is_available() else 'cpu'\n",
    "print(f\"Device: {device}\")"
   ]
  },
  {
   "cell_type": "code",
   "execution_count": 2,
   "metadata": {},
   "outputs": [],
   "source": [
    "data_folder = 'training'\n",
    "loader_params = {\n",
    "    'batch_size': 1,\n",
    "    'shuffle': True,\n",
    "    'only_inputs': True,\n",
    "    'print_steps': True,\n",
    "    'moves_per_step': 3,\n",
    "    'max_steps': 3,\n",
    "    'p_use_base': 0.1,\n",
    "}\n",
    "\n",
    "data_yielder = loader.get_pcfg_datayielder(data_folder, loader_params)"
   ]
  },
  {
   "cell_type": "code",
   "execution_count": 3,
   "metadata": {},
   "outputs": [
    {
     "name": "stdout",
     "output_type": "stream",
     "text": [
      "Problem ID: 25ff71a9-input-1, [3/3]\n",
      "Transformation applied: translate, translate, draw_line on objects.\n",
      "Input:\n"
     ]
    },
    {
     "data": {
      "image/png": "[encoded data removed]",
      "text/plain": [
       "<Figure size 300x300 with 1 Axes>"
      ]
     },
     "metadata": {},
     "output_type": "display_data"
    },
    {
     "name": "stdout",
     "output_type": "stream",
     "text": [
      "Output:\n"
     ]
    },
    {
     "data": {
      "image/png": "[encoded data removed]",
      "text/plain": [
       "<Figure size 300x300 with 1 Axes>"
      ]
     },
     "metadata": {},
     "output_type": "display_data"
    },
    {
     "name": "stdout",
     "output_type": "stream",
     "text": [
      "Key: 25ff71a9-input-1\n",
      "x:   [<source.objects.ARC_Object object at 0x000001F621AD8FD0>, <source.objects.ARC_Object object at 0x000001F620E23010>, <source.objects.ARC_Object object at 0x000001F62101D310>, '<PAD>', '<PAD>', '<PAD>', '<PAD>', '<PAD>', '<PAD>', '<PAD>', '<PAD>', '<PAD>', '<PAD>', '<PAD>', '<PAD>', '<PAD>', '<SEP>', <source.objects.ARC_Object object at 0x000001F6291D8A10>, <source.objects.ARC_Object object at 0x000001F6291D8B50>, <source.objects.ARC_Object object at 0x000001F6291D8B90>, <source.objects.ARC_Object object at 0x000001F6291D90D0>, '<PAD>', '<PAD>', '<PAD>', '<PAD>', '<PAD>', '<PAD>', '<PAD>', '<PAD>', '<PAD>', '<PAD>', '<PAD>', '<PAD>']\n",
      "y:   [5, 5, 8]\n",
      "Obj idx previous step applied to: [1, 1, 1]\n",
      "\n",
      "\n",
      "Problem ID: c8f0f002-input-2, [3/3]\n",
      "Transformation applied: recolor, color, draw_line on objects.\n",
      "Input:\n"
     ]
    },
    {
     "data": {
      "image/png": "[encoded data removed]",
      "text/plain": [
       "<Figure size 300x300 with 1 Axes>"
      ]
     },
     "metadata": {},
     "output_type": "display_data"
    },
    {
     "name": "stdout",
     "output_type": "stream",
     "text": [
      "Output:\n"
     ]
    },
    {
     "data": {
      "image/png": "[encoded data removed]",
      "text/plain": [
       "<Figure size 300x300 with 1 Axes>"
      ]
     },
     "metadata": {},
     "output_type": "display_data"
    },
    {
     "name": "stdout",
     "output_type": "stream",
     "text": [
      "Key: c8f0f002-input-2\n",
      "x:   [<source.objects.ARC_Object object at 0x000001F621BBB690>, <source.objects.ARC_Object object at 0x000001F61C342AD0>, <source.objects.ARC_Object object at 0x000001F61C3354D0>, <source.objects.ARC_Object object at 0x000001F621098690>, '<PAD>', '<PAD>', '<PAD>', '<PAD>', '<PAD>', '<PAD>', '<PAD>', '<PAD>', '<PAD>', '<PAD>', '<PAD>', '<PAD>', '<SEP>', <source.objects.ARC_Object object at 0x000001F61C36A290>, <source.objects.ARC_Object object at 0x000001F61C369CD0>, <source.objects.ARC_Object object at 0x000001F61C36A250>, <source.objects.ARC_Object object at 0x000001F61C36AB50>, <source.objects.ARC_Object object at 0x000001F61C36AD10>, '<PAD>', '<PAD>', '<PAD>', '<PAD>', '<PAD>', '<PAD>', '<PAD>', '<PAD>', '<PAD>', '<PAD>', '<PAD>']\n",
      "y:   [0, 3, 8]\n",
      "Obj idx previous step applied to: [1, 2, 2]\n",
      "\n",
      "\n",
      "Problem ID: d07ae81c-input-0, [3/3]\n",
      "Transformation applied: delete, color, color on objects.\n",
      "Input:\n"
     ]
    },
    {
     "data": {
      "image/png": "[encoded data removed]",
      "text/plain": [
       "<Figure size 300x300 with 1 Axes>"
      ]
     },
     "metadata": {},
     "output_type": "display_data"
    },
    {
     "name": "stdout",
     "output_type": "stream",
     "text": [
      "Output:\n"
     ]
    },
    {
     "data": {
      "image/png": "[encoded data removed]",
      "text/plain": [
       "<Figure size 300x300 with 1 Axes>"
      ]
     },
     "metadata": {},
     "output_type": "display_data"
    },
    {
     "name": "stdout",
     "output_type": "stream",
     "text": [
      "Key: d07ae81c-input-0\n",
      "x:   [<source.objects.ARC_Object object at 0x000001F621BCDD10>, <source.objects.ARC_Object object at 0x000001F61C3A4790>, <source.objects.ARC_Object object at 0x000001F61C3CB150>, <source.objects.ARC_Object object at 0x000001F61C3A6390>, <source.objects.ARC_Object object at 0x000001F61C3B5DD0>, <source.objects.ARC_Object object at 0x000001F61C3B5650>, <source.objects.ARC_Object object at 0x000001F61C3B7710>, <source.objects.ARC_Object object at 0x000001F61C3B7E10>, <source.objects.ARC_Object object at 0x000001F61C3B7D10>, '<PAD>', '<PAD>', '<PAD>', '<PAD>', '<PAD>', '<PAD>', '<PAD>', '<SEP>', <source.objects.ARC_Object object at 0x000001F61C379150>, <source.objects.ARC_Object object at 0x000001F61C35F010>, <source.objects.ARC_Object object at 0x000001F61C35FD50>, <source.objects.ARC_Object object at 0x000001F61C35EED0>, <source.objects.ARC_Object object at 0x000001F61C35EDD0>, <source.objects.ARC_Object object at 0x000001F61C35EE10>, <source.objects.ARC_Object object at 0x000001F61C35EC10>, <source.objects.ARC_Object object at 0x000001F61C35ED10>, <source.objects.ARC_Object object at 0x000001F61C35F0D0>, '<PAD>', '<PAD>', '<PAD>', '<PAD>', '<PAD>', '<PAD>', '<PAD>']\n",
      "y:   [4, 3, 3]\n",
      "Obj idx previous step applied to: [7, 5, 6]\n",
      "\n",
      "\n",
      "Problem ID: a65b410d-input-0, [3/3]\n",
      "Transformation applied: single_copy, translate, color on objects.\n",
      "Input:\n"
     ]
    },
    {
     "data": {
      "image/png": "[encoded data removed]",
      "text/plain": [
       "<Figure size 300x300 with 1 Axes>"
      ]
     },
     "metadata": {},
     "output_type": "display_data"
    },
    {
     "name": "stdout",
     "output_type": "stream",
     "text": [
      "Output:\n"
     ]
    },
    {
     "data": {
      "image/png": "[encoded data removed]",
      "text/plain": [
       "<Figure size 300x300 with 1 Axes>"
      ]
     },
     "metadata": {},
     "output_type": "display_data"
    },
    {
     "name": "stdout",
     "output_type": "stream",
     "text": [
      "Key: a65b410d-input-0\n",
      "x:   [<source.objects.ARC_Object object at 0x000001F621B89F90>, <source.objects.ARC_Object object at 0x000001F61C398110>, <source.objects.ARC_Object object at 0x000001F61C35E310>, '<PAD>', '<PAD>', '<PAD>', '<PAD>', '<PAD>', '<PAD>', '<PAD>', '<PAD>', '<PAD>', '<PAD>', '<PAD>', '<PAD>', '<PAD>', '<SEP>', <source.objects.ARC_Object object at 0x000001F61C3F57D0>, <source.objects.ARC_Object object at 0x000001F61C36BD50>, <source.objects.ARC_Object object at 0x000001F61C3568D0>, '<PAD>', '<PAD>', '<PAD>', '<PAD>', '<PAD>', '<PAD>', '<PAD>', '<PAD>', '<PAD>', '<PAD>', '<PAD>', '<PAD>', '<PAD>']\n",
      "y:   [6, 5, 3]\n",
      "Obj idx previous step applied to: [1, 1, 1]\n",
      "\n",
      "\n",
      "Problem ID: 22168020-input-1, [3/3]\n",
      "Transformation applied: single_copy, color, rotate on objects.\n",
      "Input:\n"
     ]
    },
    {
     "data": {
      "image/png": "[encoded data removed]",
      "text/plain": [
       "<Figure size 300x300 with 1 Axes>"
      ]
     },
     "metadata": {},
     "output_type": "display_data"
    },
    {
     "name": "stdout",
     "output_type": "stream",
     "text": [
      "Output:\n"
     ]
    },
    {
     "data": {
      "image/png": "[encoded data removed]",
      "text/plain": [
       "<Figure size 300x300 with 1 Axes>"
      ]
     },
     "metadata": {},
     "output_type": "display_data"
    },
    {
     "name": "stdout",
     "output_type": "stream",
     "text": [
      "Key: 22168020-input-1\n",
      "x:   [<source.objects.ARC_Object object at 0x000001F621AD9FD0>, <source.objects.ARC_Object object at 0x000001F62B62CDD0>, <source.objects.ARC_Object object at 0x000001F61C3DE890>, <source.objects.ARC_Object object at 0x000001F61C3DEE10>, '<PAD>', '<PAD>', '<PAD>', '<PAD>', '<PAD>', '<PAD>', '<PAD>', '<PAD>', '<PAD>', '<PAD>', '<PAD>', '<PAD>', '<SEP>', <source.objects.ARC_Object object at 0x000001F61C3D8850>, <source.objects.ARC_Object object at 0x000001F61C344C90>, <source.objects.ARC_Object object at 0x000001F61C347050>, '<PAD>', '<PAD>', '<PAD>', '<PAD>', '<PAD>', '<PAD>', '<PAD>', '<PAD>', '<PAD>', '<PAD>', '<PAD>', '<PAD>', '<PAD>']\n",
      "y:   [6, 3, 1]\n",
      "Obj idx previous step applied to: [2, 1, 0]\n",
      "\n",
      "\n",
      "Problem ID: dc433765-input-2, [3/3]\n",
      "Transformation applied: flip, recolor, flip on base.\n",
      "Input:\n"
     ]
    },
    {
     "data": {
      "image/png": "[encoded data removed]",
      "text/plain": [
       "<Figure size 300x300 with 1 Axes>"
      ]
     },
     "metadata": {},
     "output_type": "display_data"
    },
    {
     "name": "stdout",
     "output_type": "stream",
     "text": [
      "Output:\n"
     ]
    },
    {
     "data": {
      "image/png": "[encoded data removed]",
      "text/plain": [
       "<Figure size 300x300 with 1 Axes>"
      ]
     },
     "metadata": {},
     "output_type": "display_data"
    },
    {
     "name": "stdout",
     "output_type": "stream",
     "text": [
      "Key: dc433765-input-2\n",
      "x:   [<source.objects.ARC_Object object at 0x000001F62918C810>, <source.objects.ARC_Object object at 0x000001F61C406590>, <source.objects.ARC_Object object at 0x000001F62B64FF90>, <source.objects.ARC_Object object at 0x000001F61C341B50>, '<PAD>', '<PAD>', '<PAD>', '<PAD>', '<PAD>', '<PAD>', '<PAD>', '<PAD>', '<PAD>', '<PAD>', '<PAD>', '<PAD>', '<SEP>', <source.objects.ARC_Object object at 0x000001F61C378A90>, <source.objects.ARC_Object object at 0x000001F62B696150>, <source.objects.ARC_Object object at 0x000001F62B6960D0>, <source.objects.ARC_Object object at 0x000001F62B695550>, '<PAD>', '<PAD>', '<PAD>', '<PAD>', '<PAD>', '<PAD>', '<PAD>', '<PAD>', '<PAD>', '<PAD>', '<PAD>', '<PAD>']\n",
      "y:   [2, 0, 2]\n",
      "Obj idx previous step applied to: [0, 0, 0]\n",
      "\n",
      "\n",
      "Problem ID: d22278a0-input-1, [3/3]\n",
      "Transformation applied: single_copy, translate, color on objects.\n",
      "Input:\n"
     ]
    },
    {
     "data": {
      "image/png": "[encoded data removed]",
      "text/plain": [
       "<Figure size 300x300 with 1 Axes>"
      ]
     },
     "metadata": {},
     "output_type": "display_data"
    },
    {
     "name": "stdout",
     "output_type": "stream",
     "text": [
      "Output:\n"
     ]
    },
    {
     "data": {
      "image/png": "[encoded data removed]",
      "text/plain": [
       "<Figure size 300x300 with 1 Axes>"
      ]
     },
     "metadata": {},
     "output_type": "display_data"
    },
    {
     "name": "stdout",
     "output_type": "stream",
     "text": [
      "Key: d22278a0-input-1\n",
      "x:   [<source.objects.ARC_Object object at 0x000001F621BCC450>, <source.objects.ARC_Object object at 0x000001F62B668950>, <source.objects.ARC_Object object at 0x000001F62B670E10>, <source.objects.ARC_Object object at 0x000001F62B67EE10>, '<PAD>', '<PAD>', '<PAD>', '<PAD>', '<PAD>', '<PAD>', '<PAD>', '<PAD>', '<PAD>', '<PAD>', '<PAD>', '<PAD>', '<SEP>', <source.objects.ARC_Object object at 0x000001F61C368D50>, <source.objects.ARC_Object object at 0x000001F61C36BE50>, <source.objects.ARC_Object object at 0x000001F61C369490>, '<PAD>', '<PAD>', '<PAD>', '<PAD>', '<PAD>', '<PAD>', '<PAD>', '<PAD>', '<PAD>', '<PAD>', '<PAD>', '<PAD>', '<PAD>']\n",
      "y:   [6, 5, 3]\n",
      "Obj idx previous step applied to: [1, 2, 2]\n",
      "\n",
      "\n",
      "Problem ID: 5ad4f10b-input-1, [3/3]\n",
      "Transformation applied: recolor, draw_line, single_copy on objects.\n",
      "Input:\n"
     ]
    },
    {
     "data": {
      "image/png": "[encoded data removed]",
      "text/plain": [
       "<Figure size 300x300 with 1 Axes>"
      ]
     },
     "metadata": {},
     "output_type": "display_data"
    },
    {
     "name": "stdout",
     "output_type": "stream",
     "text": [
      "Output:\n"
     ]
    },
    {
     "data": {
      "image/png": "[encoded data removed]",
      "text/plain": [
       "<Figure size 300x300 with 1 Axes>"
      ]
     },
     "metadata": {},
     "output_type": "display_data"
    },
    {
     "name": "stdout",
     "output_type": "stream",
     "text": [
      "Key: 5ad4f10b-input-1\n",
      "x:   [<source.objects.ARC_Object object at 0x000001F621B11DD0>, <source.objects.ARC_Object object at 0x000001F61C3E6710>, <source.objects.ARC_Object object at 0x000001F61C3DA710>, <source.objects.ARC_Object object at 0x000001F61C3D9B50>, '<PAD>', '<PAD>', '<PAD>', '<PAD>', '<PAD>', '<PAD>', '<PAD>', '<PAD>', '<PAD>', '<PAD>', '<PAD>', '<PAD>', '<SEP>', <source.objects.ARC_Object object at 0x000001F62B6E6AD0>, <source.objects.ARC_Object object at 0x000001F62B6E7E10>, <source.objects.ARC_Object object at 0x000001F62B6E7E50>, <source.objects.ARC_Object object at 0x000001F62B6E7E90>, '<PAD>', '<PAD>', '<PAD>', '<PAD>', '<PAD>', '<PAD>', '<PAD>', '<PAD>', '<PAD>', '<PAD>', '<PAD>', '<PAD>']\n",
      "y:   [0, 8, 6]\n",
      "Obj idx previous step applied to: [0, 2, 0]\n",
      "\n",
      "\n",
      "Problem ID: ecdecbb3-input-1, [3/3]\n",
      "Transformation applied: draw_line, translate, translate on objects.\n",
      "Input:\n"
     ]
    },
    {
     "data": {
      "image/png": "[encoded data removed]",
      "text/plain": [
       "<Figure size 300x300 with 1 Axes>"
      ]
     },
     "metadata": {},
     "output_type": "display_data"
    },
    {
     "name": "stdout",
     "output_type": "stream",
     "text": [
      "Output:\n"
     ]
    },
    {
     "data": {
      "image/png": "[encoded data removed]",
      "text/plain": [
       "<Figure size 300x300 with 1 Axes>"
      ]
     },
     "metadata": {},
     "output_type": "display_data"
    },
    {
     "name": "stdout",
     "output_type": "stream",
     "text": [
      "Key: ecdecbb3-input-1\n",
      "x:   [<source.objects.ARC_Object object at 0x000001F6291AA050>, <source.objects.ARC_Object object at 0x000001F61C35DA50>, <source.objects.ARC_Object object at 0x000001F62B6E4250>, <source.objects.ARC_Object object at 0x000001F61C3DF450>, <source.objects.ARC_Object object at 0x000001F61C3DCD10>, '<PAD>', '<PAD>', '<PAD>', '<PAD>', '<PAD>', '<PAD>', '<PAD>', '<PAD>', '<PAD>', '<PAD>', '<PAD>', '<SEP>', <source.objects.ARC_Object object at 0x000001F62924B8D0>, <source.objects.ARC_Object object at 0x000001F61C3D1210>, <source.objects.ARC_Object object at 0x000001F62921D250>, <source.objects.ARC_Object object at 0x000001F62B62D4D0>, '<PAD>', '<PAD>', '<PAD>', '<PAD>', '<PAD>', '<PAD>', '<PAD>', '<PAD>', '<PAD>', '<PAD>', '<PAD>', '<PAD>']\n",
      "y:   [8, 5, 5]\n",
      "Obj idx previous step applied to: [3, 0, 0]\n",
      "\n",
      "\n",
      "Problem ID: a3325580-input-1, [3/3]\n",
      "Transformation applied: recolor, copy_translate, copy_translate on objects.\n",
      "Input:\n"
     ]
    },
    {
     "data": {
      "image/png": "[encoded data removed]",
      "text/plain": [
       "<Figure size 300x300 with 1 Axes>"
      ]
     },
     "metadata": {},
     "output_type": "display_data"
    },
    {
     "name": "stdout",
     "output_type": "stream",
     "text": [
      "Output:\n"
     ]
    },
    {
     "data": {
      "image/png": "[encoded data removed]",
      "text/plain": [
       "<Figure size 300x300 with 1 Axes>"
      ]
     },
     "metadata": {},
     "output_type": "display_data"
    },
    {
     "name": "stdout",
     "output_type": "stream",
     "text": [
      "Key: a3325580-input-1\n",
      "x:   [<source.objects.ARC_Object object at 0x000001F621B9FA10>, <source.objects.ARC_Object object at 0x000001F62B7018D0>, <source.objects.ARC_Object object at 0x000001F62B695D50>, <source.objects.ARC_Object object at 0x000001F62B6DA610>, <source.objects.ARC_Object object at 0x000001F61C407290>, '<PAD>', '<PAD>', '<PAD>', '<PAD>', '<PAD>', '<PAD>', '<PAD>', '<PAD>', '<PAD>', '<PAD>', '<PAD>', '<SEP>', <source.objects.ARC_Object object at 0x000001F62B689210>, <source.objects.ARC_Object object at 0x000001F62B768B50>, <source.objects.ARC_Object object at 0x000001F62B768C10>, <source.objects.ARC_Object object at 0x000001F62B768C90>, <source.objects.ARC_Object object at 0x000001F62B768D10>, '<PAD>', '<PAD>', '<PAD>', '<PAD>', '<PAD>', '<PAD>', '<PAD>', '<PAD>', '<PAD>', '<PAD>', '<PAD>']\n",
      "y:   [0, 7, 7]\n",
      "Obj idx previous step applied to: [1, 1, 2]\n",
      "\n",
      "\n",
      "Problem ID: 91714a58-input-0, [3/3]\n",
      "Transformation applied: delete, translate, draw_line on objects.\n",
      "Input:\n"
     ]
    },
    {
     "data": {
      "image/png": "[encoded data removed]",
      "text/plain": [
       "<Figure size 300x300 with 1 Axes>"
      ]
     },
     "metadata": {},
     "output_type": "display_data"
    },
    {
     "name": "stdout",
     "output_type": "stream",
     "text": [
      "Output:\n"
     ]
    },
    {
     "data": {
      "image/png": "[encoded data removed]",
      "text/plain": [
       "<Figure size 300x300 with 1 Axes>"
      ]
     },
     "metadata": {},
     "output_type": "display_data"
    },
    {
     "name": "stdout",
     "output_type": "stream",
     "text": [
      "Key: 91714a58-input-0\n",
      "x:   [<source.objects.ARC_Object object at 0x000001F621B6CE90>, <source.objects.ARC_Object object at 0x000001F62B74D390>, <source.objects.ARC_Object object at 0x000001F62B67FE90>, <source.objects.ARC_Object object at 0x000001F61C406B90>, <source.objects.ARC_Object object at 0x000001F62B67F290>, <source.objects.ARC_Object object at 0x000001F621098590>, <source.objects.ARC_Object object at 0x000001F62B6DB910>, <source.objects.ARC_Object object at 0x000001F61C345A50>, <source.objects.ARC_Object object at 0x000001F62B6DA410>, <source.objects.ARC_Object object at 0x000001F61C38DD10>, <source.objects.ARC_Object object at 0x000001F62B743650>, '<PAD>', '<PAD>', '<PAD>', '<PAD>', '<PAD>', '<SEP>', <source.objects.ARC_Object object at 0x000001F61C3D6C90>, <source.objects.ARC_Object object at 0x000001F62B68BAD0>, <source.objects.ARC_Object object at 0x000001F62921D0D0>, <source.objects.ARC_Object object at 0x000001F61C355890>, <source.objects.ARC_Object object at 0x000001F62921D090>, <source.objects.ARC_Object object at 0x000001F621157210>, <source.objects.ARC_Object object at 0x000001F62B6BDD90>, <source.objects.ARC_Object object at 0x000001F621157050>, <source.objects.ARC_Object object at 0x000001F62B6BE1D0>, <source.objects.ARC_Object object at 0x000001F61C3D3F90>, '<PAD>', '<PAD>', '<PAD>', '<PAD>', '<PAD>', '<PAD>']\n",
      "y:   [4, 5, 8]\n",
      "Obj idx previous step applied to: [4, 5, 0]\n",
      "\n",
      "\n",
      "Problem ID: 6855a6e4-input-0, [3/3]\n",
      "Transformation applied: translate, single_copy, translate on objects.\n",
      "Input:\n"
     ]
    },
    {
     "data": {
      "image/png": "[encoded data removed]",
      "text/plain": [
       "<Figure size 300x300 with 1 Axes>"
      ]
     },
     "metadata": {},
     "output_type": "display_data"
    },
    {
     "name": "stdout",
     "output_type": "stream",
     "text": [
      "Output:\n"
     ]
    },
    {
     "data": {
      "image/png": "[encoded data removed]",
      "text/plain": [
       "<Figure size 300x300 with 1 Axes>"
      ]
     },
     "metadata": {},
     "output_type": "display_data"
    },
    {
     "name": "stdout",
     "output_type": "stream",
     "text": [
      "Key: 6855a6e4-input-0\n",
      "x:   [<source.objects.ARC_Object object at 0x000001F621B30D10>, <source.objects.ARC_Object object at 0x000001F61C3D9BD0>, <source.objects.ARC_Object object at 0x000001F62B768150>, <source.objects.ARC_Object object at 0x000001F62100EE10>, '<PAD>', '<PAD>', '<PAD>', '<PAD>', '<PAD>', '<PAD>', '<PAD>', '<PAD>', '<PAD>', '<PAD>', '<PAD>', '<PAD>', '<SEP>', <source.objects.ARC_Object object at 0x000001F62B7D8190>, <source.objects.ARC_Object object at 0x000001F62B7D9850>, <source.objects.ARC_Object object at 0x000001F62B7D9890>, <source.objects.ARC_Object object at 0x000001F62B7D98D0>, '<PAD>', '<PAD>', '<PAD>', '<PAD>', '<PAD>', '<PAD>', '<PAD>', '<PAD>', '<PAD>', '<PAD>', '<PAD>', '<PAD>']\n",
      "y:   [5, 6, 5]\n",
      "Obj idx previous step applied to: [1, 2, 1]\n",
      "\n",
      "\n",
      "Problem ID: 2dd70a9a-input-0, [3/3]\n",
      "Transformation applied: rotate, copy_translate, delete on objects.\n",
      "Input:\n"
     ]
    },
    {
     "data": {
      "image/png": "[encoded data removed]",
      "text/plain": [
       "<Figure size 300x300 with 1 Axes>"
      ]
     },
     "metadata": {},
     "output_type": "display_data"
    },
    {
     "name": "stdout",
     "output_type": "stream",
     "text": [
      "Output:\n"
     ]
    },
    {
     "data": {
      "image/png": "[encoded data removed]",
      "text/plain": [
       "<Figure size 300x300 with 1 Axes>"
      ]
     },
     "metadata": {},
     "output_type": "display_data"
    },
    {
     "name": "stdout",
     "output_type": "stream",
     "text": [
      "Key: 2dd70a9a-input-0\n",
      "x:   [<source.objects.ARC_Object object at 0x000001F621AD8810>, <source.objects.ARC_Object object at 0x000001F6291DA490>, <source.objects.ARC_Object object at 0x000001F6291DA250>, <source.objects.ARC_Object object at 0x000001F6291D9250>, <source.objects.ARC_Object object at 0x000001F6291D9990>, '<PAD>', '<PAD>', '<PAD>', '<PAD>', '<PAD>', '<PAD>', '<PAD>', '<PAD>', '<PAD>', '<PAD>', '<PAD>', '<SEP>', <source.objects.ARC_Object object at 0x000001F62B713110>, <source.objects.ARC_Object object at 0x000001F62B7114D0>, <source.objects.ARC_Object object at 0x000001F62B711C90>, <source.objects.ARC_Object object at 0x000001F62B713710>, '<PAD>', '<PAD>', '<PAD>', '<PAD>', '<PAD>', '<PAD>', '<PAD>', '<PAD>', '<PAD>', '<PAD>', '<PAD>', '<PAD>']\n",
      "y:   [1, 7, 4]\n",
      "Obj idx previous step applied to: [1, 2, 2]\n",
      "\n",
      "\n",
      "Problem ID: f8a8fe49-input-2, [3/3]\n",
      "Transformation applied: copy_translate, copy_translate, rotate on objects.\n",
      "Input:\n"
     ]
    },
    {
     "data": {
      "image/png": "[encoded data removed]",
      "text/plain": [
       "<Figure size 300x300 with 1 Axes>"
      ]
     },
     "metadata": {},
     "output_type": "display_data"
    },
    {
     "name": "stdout",
     "output_type": "stream",
     "text": [
      "Output:\n"
     ]
    },
    {
     "data": {
      "image/png": "[encoded data removed]",
      "text/plain": [
       "<Figure size 300x300 with 1 Axes>"
      ]
     },
     "metadata": {},
     "output_type": "display_data"
    },
    {
     "name": "stdout",
     "output_type": "stream",
     "text": [
      "Key: f8a8fe49-input-2\n",
      "x:   [<source.objects.ARC_Object object at 0x000001F6291AA610>, <source.objects.ARC_Object object at 0x000001F62B7418D0>, <source.objects.ARC_Object object at 0x000001F62B673150>, <source.objects.ARC_Object object at 0x000001F62B7F1B50>, '<PAD>', '<PAD>', '<PAD>', '<PAD>', '<PAD>', '<PAD>', '<PAD>', '<PAD>', '<PAD>', '<PAD>', '<PAD>', '<PAD>', '<SEP>', <source.objects.ARC_Object object at 0x000001F621094890>, <source.objects.ARC_Object object at 0x000001F62B7FA190>, <source.objects.ARC_Object object at 0x000001F62B7FA890>, <source.objects.ARC_Object object at 0x000001F62B7FAA50>, '<PAD>', '<PAD>', '<PAD>', '<PAD>', '<PAD>', '<PAD>', '<PAD>', '<PAD>', '<PAD>', '<PAD>', '<PAD>', '<PAD>']\n",
      "y:   [7, 7, 1]\n",
      "Obj idx previous step applied to: [1, 2, 1]\n",
      "\n",
      "\n",
      "Problem ID: 9f236235-input-0, [3/3]\n",
      "Transformation applied: single_copy, single_copy, translate on objects.\n",
      "Input:\n"
     ]
    },
    {
     "data": {
      "image/png": "[encoded data removed]",
      "text/plain": [
       "<Figure size 300x300 with 1 Axes>"
      ]
     },
     "metadata": {},
     "output_type": "display_data"
    },
    {
     "name": "stdout",
     "output_type": "stream",
     "text": [
      "Output:\n"
     ]
    },
    {
     "data": {
      "image/png": "[encoded data removed]",
      "text/plain": [
       "<Figure size 300x300 with 1 Axes>"
      ]
     },
     "metadata": {},
     "output_type": "display_data"
    },
    {
     "name": "stdout",
     "output_type": "stream",
     "text": [
      "Key: 9f236235-input-0\n",
      "x:   [<source.objects.ARC_Object object at 0x000001F621B6DE50>, <source.objects.ARC_Object object at 0x000001F62B6BF150>, <source.objects.ARC_Object object at 0x000001F62B77FBD0>, <source.objects.ARC_Object object at 0x000001F62B7A8D90>, <source.objects.ARC_Object object at 0x000001F62920D290>, '<PAD>', '<PAD>', '<PAD>', '<PAD>', '<PAD>', '<PAD>', '<PAD>', '<PAD>', '<PAD>', '<PAD>', '<PAD>', '<SEP>', <source.objects.ARC_Object object at 0x000001F62B64C350>, <source.objects.ARC_Object object at 0x000001F61C36A850>, <source.objects.ARC_Object object at 0x000001F61C368B10>, <source.objects.ARC_Object object at 0x000001F61C368910>, <source.objects.ARC_Object object at 0x000001F61C368AD0>, <source.objects.ARC_Object object at 0x000001F61C36A4D0>, <source.objects.ARC_Object object at 0x000001F61C36A790>, <source.objects.ARC_Object object at 0x000001F61C36B090>, '<PAD>', '<PAD>', '<PAD>', '<PAD>', '<PAD>', '<PAD>', '<PAD>', '<PAD>']\n",
      "y:   [6, 6, 5]\n",
      "Obj idx previous step applied to: [2, 2, 2]\n",
      "\n",
      "\n",
      "Problem ID: a8d7556c-input-0, [3/3]\n",
      "Transformation applied: draw_line, flip, single_copy on objects.\n",
      "Input:\n"
     ]
    },
    {
     "data": {
      "image/png": "[encoded data removed]",
      "text/plain": [
       "<Figure size 300x300 with 1 Axes>"
      ]
     },
     "metadata": {},
     "output_type": "display_data"
    },
    {
     "name": "stdout",
     "output_type": "stream",
     "text": [
      "Output:\n"
     ]
    },
    {
     "data": {
      "image/png": "[encoded data removed]",
      "text/plain": [
       "<Figure size 300x300 with 1 Axes>"
      ]
     },
     "metadata": {},
     "output_type": "display_data"
    },
    {
     "name": "stdout",
     "output_type": "stream",
     "text": [
      "Key: a8d7556c-input-0\n",
      "x:   [<source.objects.ARC_Object object at 0x000001F621B9E310>, <source.objects.ARC_Object object at 0x000001F62B809550>, <source.objects.ARC_Object object at 0x000001F62B6DBB50>, '<PAD>', '<PAD>', '<PAD>', '<PAD>', '<PAD>', '<PAD>', '<PAD>', '<PAD>', '<PAD>', '<PAD>', '<PAD>', '<PAD>', '<PAD>', '<SEP>', <source.objects.ARC_Object object at 0x000001F62B821E50>, <source.objects.ARC_Object object at 0x000001F62B822A10>, <source.objects.ARC_Object object at 0x000001F62B822910>, <source.objects.ARC_Object object at 0x000001F62B823B90>, '<PAD>', '<PAD>', '<PAD>', '<PAD>', '<PAD>', '<PAD>', '<PAD>', '<PAD>', '<PAD>', '<PAD>', '<PAD>', '<PAD>']\n",
      "y:   [8, 2, 6]\n",
      "Obj idx previous step applied to: [1, 0, 1]\n",
      "\n",
      "\n",
      "Problem ID: d90796e8-input-1, [3/3]\n",
      "Transformation applied: flip, recolor, flip on base.\n",
      "Input:\n"
     ]
    },
    {
     "data": {
      "image/png": "[encoded data removed]",
      "text/plain": [
       "<Figure size 300x300 with 1 Axes>"
      ]
     },
     "metadata": {},
     "output_type": "display_data"
    },
    {
     "name": "stdout",
     "output_type": "stream",
     "text": [
      "Output:\n"
     ]
    },
    {
     "data": {
      "image/png": "[encoded data removed]",
      "text/plain": [
       "<Figure size 300x300 with 1 Axes>"
      ]
     },
     "metadata": {},
     "output_type": "display_data"
    },
    {
     "name": "stdout",
     "output_type": "stream",
     "text": [
      "Key: d90796e8-input-1\n",
      "x:   [<source.objects.ARC_Object object at 0x000001F62918E590>, <source.objects.ARC_Object object at 0x000001F62B726BD0>, <source.objects.ARC_Object object at 0x000001F62B813FD0>, <source.objects.ARC_Object object at 0x000001F61C4051D0>, <source.objects.ARC_Object object at 0x000001F61C406D50>, <source.objects.ARC_Object object at 0x000001F61C405F10>, <source.objects.ARC_Object object at 0x000001F61C405310>, '<PAD>', '<PAD>', '<PAD>', '<PAD>', '<PAD>', '<PAD>', '<PAD>', '<PAD>', '<PAD>', '<SEP>', <source.objects.ARC_Object object at 0x000001F61C407690>, <source.objects.ARC_Object object at 0x000001F61C394550>, <source.objects.ARC_Object object at 0x000001F61C394110>, <source.objects.ARC_Object object at 0x000001F61C394D50>, <source.objects.ARC_Object object at 0x000001F61C395650>, <source.objects.ARC_Object object at 0x000001F61C396F10>, <source.objects.ARC_Object object at 0x000001F61C3965D0>, '<PAD>', '<PAD>', '<PAD>', '<PAD>', '<PAD>', '<PAD>', '<PAD>', '<PAD>', '<PAD>']\n",
      "y:   [2, 0, 2]\n",
      "Obj idx previous step applied to: [0, 0, 0]\n",
      "\n",
      "\n",
      "Problem ID: e48d4e1a-input-0, [3/3]\n",
      "Transformation applied: rotate, draw_line, delete on objects.\n",
      "Input:\n"
     ]
    },
    {
     "data": {
      "image/png": "[encoded data removed]",
      "text/plain": [
       "<Figure size 300x300 with 1 Axes>"
      ]
     },
     "metadata": {},
     "output_type": "display_data"
    },
    {
     "name": "stdout",
     "output_type": "stream",
     "text": [
      "Output:\n"
     ]
    },
    {
     "data": {
      "image/png": "[encoded data removed]",
      "text/plain": [
       "<Figure size 300x300 with 1 Axes>"
      ]
     },
     "metadata": {},
     "output_type": "display_data"
    },
    {
     "name": "stdout",
     "output_type": "stream",
     "text": [
      "Key: e48d4e1a-input-0\n",
      "x:   [<source.objects.ARC_Object object at 0x000001F6291A9450>, <source.objects.ARC_Object object at 0x000001F66ECC1210>, <source.objects.ARC_Object object at 0x000001F61C35F650>, <source.objects.ARC_Object object at 0x000001F61C3B5890>, '<PAD>', '<PAD>', '<PAD>', '<PAD>', '<PAD>', '<PAD>', '<PAD>', '<PAD>', '<PAD>', '<PAD>', '<PAD>', '<PAD>', '<SEP>', <source.objects.ARC_Object object at 0x000001F629238750>, <source.objects.ARC_Object object at 0x000001F62B7BD8D0>, <source.objects.ARC_Object object at 0x000001F62B7BCC90>, <source.objects.ARC_Object object at 0x000001F62B7BDBD0>, '<PAD>', '<PAD>', '<PAD>', '<PAD>', '<PAD>', '<PAD>', '<PAD>', '<PAD>', '<PAD>', '<PAD>', '<PAD>', '<PAD>']\n",
      "y:   [1, 8, 4]\n",
      "Obj idx previous step applied to: [1, 2, 2]\n",
      "\n",
      "\n",
      "Problem ID: b7249182-input-0, [3/3]\n",
      "Transformation applied: single_copy, draw_line, copy_translate on objects.\n",
      "Input:\n"
     ]
    },
    {
     "data": {
      "image/png": "[encoded data removed]",
      "text/plain": [
       "<Figure size 300x300 with 1 Axes>"
      ]
     },
     "metadata": {},
     "output_type": "display_data"
    },
    {
     "name": "stdout",
     "output_type": "stream",
     "text": [
      "Output:\n"
     ]
    },
    {
     "data": {
      "image/png": "[encoded data removed]",
      "text/plain": [
       "<Figure size 300x300 with 1 Axes>"
      ]
     },
     "metadata": {},
     "output_type": "display_data"
    },
    {
     "name": "stdout",
     "output_type": "stream",
     "text": [
      "Key: b7249182-input-0\n",
      "x:   [<source.objects.ARC_Object object at 0x000001F621B9D250>, <source.objects.ARC_Object object at 0x000001F61C399550>, <source.objects.ARC_Object object at 0x000001F62B821D10>, <source.objects.ARC_Object object at 0x000001F62B8230D0>, '<PAD>', '<PAD>', '<PAD>', '<PAD>', '<PAD>', '<PAD>', '<PAD>', '<PAD>', '<PAD>', '<PAD>', '<PAD>', '<PAD>', '<SEP>', <source.objects.ARC_Object object at 0x000001F61C3B6550>, <source.objects.ARC_Object object at 0x000001F629233E10>, <source.objects.ARC_Object object at 0x000001F629233FD0>, <source.objects.ARC_Object object at 0x000001F6292327D0>, <source.objects.ARC_Object object at 0x000001F629232850>, <source.objects.ARC_Object object at 0x000001F629233850>, '<PAD>', '<PAD>', '<PAD>', '<PAD>', '<PAD>', '<PAD>', '<PAD>', '<PAD>', '<PAD>', '<PAD>']\n",
      "y:   [6, 8, 7]\n",
      "Obj idx previous step applied to: [1, 2, 2]\n",
      "\n",
      "\n",
      "Problem ID: 29623171-input-0, [3/3]\n",
      "Transformation applied: rotate, recolor, recolor on base.\n",
      "Input:\n"
     ]
    },
    {
     "data": {
      "image/png": "[encoded data removed]",
      "text/plain": [
       "<Figure size 300x300 with 1 Axes>"
      ]
     },
     "metadata": {},
     "output_type": "display_data"
    },
    {
     "name": "stdout",
     "output_type": "stream",
     "text": [
      "Output:\n"
     ]
    },
    {
     "data": {
      "image/png": "[encoded data removed]",
      "text/plain": [
       "<Figure size 300x300 with 1 Axes>"
      ]
     },
     "metadata": {},
     "output_type": "display_data"
    },
    {
     "name": "stdout",
     "output_type": "stream",
     "text": [
      "Key: 29623171-input-0\n",
      "x:   [<source.objects.ARC_Object object at 0x000001F621B06B10>, <source.objects.ARC_Object object at 0x000001F62B695950>, <source.objects.ARC_Object object at 0x000001F62920C850>, <source.objects.ARC_Object object at 0x000001F62920FF50>, '<PAD>', '<PAD>', '<PAD>', '<PAD>', '<PAD>', '<PAD>', '<PAD>', '<PAD>', '<PAD>', '<PAD>', '<PAD>', '<PAD>', '<SEP>', <source.objects.ARC_Object object at 0x000001F62B782ED0>, <source.objects.ARC_Object object at 0x000001F62B781E10>, <source.objects.ARC_Object object at 0x000001F62B783590>, '<PAD>', '<PAD>', '<PAD>', '<PAD>', '<PAD>', '<PAD>', '<PAD>', '<PAD>', '<PAD>', '<PAD>', '<PAD>', '<PAD>', '<PAD>']\n",
      "y:   [1, 0, 0]\n",
      "Obj idx previous step applied to: [0, 0, 0]\n",
      "\n",
      "\n"
     ]
    }
   ],
   "source": [
    "print_samples = loader_params['print_steps']\n",
    "\n",
    "for i in range(20):\n",
    "    try:\n",
    "        key, x, y, prev_idx = next(data_yielder)\n",
    "    except StopIteration as e:\n",
    "        continue\n",
    "    \n",
    "    if print_samples:\n",
    "        print(f\"Key: {key}\")\n",
    "        print(f\"x:   {x}\")\n",
    "        print(f\"y:   {y}\")\n",
    "        print(f\"Obj idx previous step applied to: {prev_idx}\")\n",
    "        print(\"\\n\")"
   ]
  }
 ],
 "metadata": {
  "kernelspec": {
   "display_name": "arc-291c",
   "language": "python",
   "name": "python3"
  },
  "language_info": {
   "codemirror_mode": {
    "name": "ipython",
    "version": 3
   },
   "file_extension": ".py",
   "mimetype": "text/x-python",
   "name": "python",
   "nbconvert_exporter": "python",
   "pygments_lexer": "ipython3",
   "version": "3.11.7"
  }
 },
 "nbformat": 4,
 "nbformat_minor": 2
}
