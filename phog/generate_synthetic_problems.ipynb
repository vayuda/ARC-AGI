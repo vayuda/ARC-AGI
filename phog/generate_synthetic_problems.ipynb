{
 "cells": [
  {
   "cell_type": "markdown",
   "metadata": {},
   "source": [
    "# Training Our PHOG Using RandTransform and pretrained Image Encodings"
   ]
  },
  {
   "cell_type": "code",
   "execution_count": 1,
   "metadata": {},
   "outputs": [
    {
     "name": "stdout",
     "output_type": "stream",
     "text": [
      "Device: cuda\n"
     ]
    }
   ],
   "source": [
    "# Import dependencies\n",
    "import torch\n",
    "\n",
    "import pcfg_loader as loader\n",
    "import source as source\n",
    "import image_encoder as encoder\n",
    "\n",
    "device = 'cuda' if torch.cuda.is_available() else 'cpu'\n",
    "print(f\"Device: {device}\")"
   ]
  },
  {
   "cell_type": "code",
   "execution_count": 2,
   "metadata": {},
   "outputs": [],
   "source": [
    "data_folder = 'training'\n",
    "loader_params = {\n",
    "    'batch_size': 1,\n",
    "    'shuffle': True,\n",
    "    'only_inputs': True,\n",
    "    'print_steps': True,\n",
    "    'moves_per_step': 3,\n",
    "    'max_steps': 3,\n",
    "    'p_use_base': 0.25,\n",
    "}\n",
    "\n",
    "data_yielder = loader.get_pcfg_datayielder(data_folder, loader_params)"
   ]
  },
  {
   "cell_type": "code",
   "execution_count": 3,
   "metadata": {},
   "outputs": [
    {
     "name": "stdout",
     "output_type": "stream",
     "text": [
      "Problem ID: 3bd67248-input-0, [3/3]\n",
      "Transformation applied: translate, recolor, translate on objects.\n",
      "Input:\n"
     ]
    },
    {
     "data": {
      "image/png": "[encoded data removed]",
      "text/plain": [
       "<Figure size 300x300 with 1 Axes>"
      ]
     },
     "metadata": {},
     "output_type": "display_data"
    },
    {
     "name": "stdout",
     "output_type": "stream",
     "text": [
      "Output:\n"
     ]
    },
    {
     "data": {
      "image/png": "[encoded data removed]",
      "text/plain": [
       "<Figure size 300x300 with 1 Axes>"
      ]
     },
     "metadata": {},
     "output_type": "display_data"
    },
    {
     "name": "stdout",
     "output_type": "stream",
     "text": [
      "Key: 3bd67248-input-0\n",
      "x:   [<source.objects.ARC_Object object at 0x0000013279680E10>, <source.objects.ARC_Object object at 0x0000013272FC7650>, <source.objects.ARC_Object object at 0x00000132726AFB90>, '<PAD>', '<PAD>', '<PAD>', '<PAD>', '<PAD>', '<PAD>', '<PAD>', '<PAD>', '<PAD>', '<PAD>', '<PAD>', '<PAD>', '<PAD>', '<SEP>', <source.objects.ARC_Object object at 0x00000132797B5050>, <source.objects.ARC_Object object at 0x00000132797A3590>, <source.objects.ARC_Object object at 0x00000132797B4310>, '<PAD>', '<PAD>', '<PAD>', '<PAD>', '<PAD>', '<PAD>', '<PAD>', '<PAD>', '<PAD>', '<PAD>', '<PAD>', '<PAD>', '<PAD>']\n",
      "y:   [5, 0, 5, -1, -1, -1, -1, -1]\n",
      "Obj idx previous step applied to: 0\n",
      "\n",
      "\n",
      "Problem ID: 11852cab-input-1, [3/3]\n",
      "Transformation applied: single_copy, draw_line, rotate on objects.\n",
      "Input:\n"
     ]
    },
    {
     "data": {
      "image/png": "[encoded data removed]",
      "text/plain": [
       "<Figure size 300x300 with 1 Axes>"
      ]
     },
     "metadata": {},
     "output_type": "display_data"
    },
    {
     "name": "stdout",
     "output_type": "stream",
     "text": [
      "Output:\n"
     ]
    },
    {
     "data": {
      "image/png": "[encoded data removed]",
      "text/plain": [
       "<Figure size 300x300 with 1 Axes>"
      ]
     },
     "metadata": {},
     "output_type": "display_data"
    },
    {
     "name": "stdout",
     "output_type": "stream",
     "text": [
      "Key: 11852cab-input-1\n",
      "x:   [<source.objects.ARC_Object object at 0x0000013279653A10>, <source.objects.ARC_Object object at 0x00000132797FC210>, <source.objects.ARC_Object object at 0x000001326DA82110>, <source.objects.ARC_Object object at 0x000001326DA88410>, <source.objects.ARC_Object object at 0x000001326DA88490>, <source.objects.ARC_Object object at 0x000001326DAB7790>, <source.objects.ARC_Object object at 0x000001326DAB4510>, '<PAD>', '<PAD>', '<PAD>', '<PAD>', '<PAD>', '<PAD>', '<PAD>', '<PAD>', '<PAD>', '<SEP>', <source.objects.ARC_Object object at 0x000001326DAB7390>, <source.objects.ARC_Object object at 0x000001326DADD010>, <source.objects.ARC_Object object at 0x000001326DADCD90>, <source.objects.ARC_Object object at 0x000001326DADD090>, <source.objects.ARC_Object object at 0x000001326DADD0D0>, <source.objects.ARC_Object object at 0x000001326DADD110>, <source.objects.ARC_Object object at 0x000001326DADD210>, <source.objects.ARC_Object object at 0x000001326DADD290>, <source.objects.ARC_Object object at 0x000001326DADD310>, <source.objects.ARC_Object object at 0x000001326DADD390>, '<PAD>', '<PAD>', '<PAD>', '<PAD>', '<PAD>', '<PAD>']\n",
      "y:   [6, 8, 1, -1, -1, -1, -1, -1]\n",
      "Obj idx previous step applied to: 4\n",
      "\n",
      "\n",
      "Problem ID: 97999447-input-0, [3/3]\n",
      "Transformation applied: flip, rotate, flip on base.\n",
      "Input:\n"
     ]
    },
    {
     "data": {
      "image/png": "[encoded data removed]",
      "text/plain": [
       "<Figure size 300x300 with 1 Axes>"
      ]
     },
     "metadata": {},
     "output_type": "display_data"
    },
    {
     "name": "stdout",
     "output_type": "stream",
     "text": [
      "Output:\n"
     ]
    },
    {
     "data": {
      "image/png": "[encoded data removed]",
      "text/plain": [
       "<Figure size 300x300 with 1 Axes>"
      ]
     },
     "metadata": {},
     "output_type": "display_data"
    },
    {
     "name": "stdout",
     "output_type": "stream",
     "text": [
      "Key: 97999447-input-0\n",
      "x:   [<source.objects.ARC_Object object at 0x0000013279710A90>, <source.objects.ARC_Object object at 0x000001326DB0DB90>, <source.objects.ARC_Object object at 0x000001326DB03710>, <source.objects.ARC_Object object at 0x000001326DB18C10>, <source.objects.ARC_Object object at 0x000001326DB010D0>, '<PAD>', '<PAD>', '<PAD>', '<PAD>', '<PAD>', '<PAD>', '<PAD>', '<PAD>', '<PAD>', '<PAD>', '<PAD>', '<SEP>', <source.objects.ARC_Object object at 0x000001326DACB050>, <source.objects.ARC_Object object at 0x000001326DACAAD0>, <source.objects.ARC_Object object at 0x000001326DAC97D0>, <source.objects.ARC_Object object at 0x000001326DACA090>, <source.objects.ARC_Object object at 0x000001326DACA990>, '<PAD>', '<PAD>', '<PAD>', '<PAD>', '<PAD>', '<PAD>', '<PAD>', '<PAD>', '<PAD>', '<PAD>', '<PAD>']\n",
      "y:   [2, 1, 2, -1, -1, -1, -1, -1]\n",
      "Obj idx previous step applied to: 0\n",
      "\n",
      "\n",
      "Problem ID: 447fd412-input-1, [3/3]\n",
      "Transformation applied: single_copy, copy_translate, recolor on objects.\n",
      "Input:\n"
     ]
    },
    {
     "data": {
      "image/png": "[encoded data removed]",
      "text/plain": [
       "<Figure size 300x300 with 1 Axes>"
      ]
     },
     "metadata": {},
     "output_type": "display_data"
    },
    {
     "name": "stdout",
     "output_type": "stream",
     "text": [
      "Output:\n"
     ]
    },
    {
     "data": {
      "image/png": "[encoded data removed]",
      "text/plain": [
       "<Figure size 300x300 with 1 Axes>"
      ]
     },
     "metadata": {},
     "output_type": "display_data"
    },
    {
     "name": "stdout",
     "output_type": "stream",
     "text": [
      "Key: 447fd412-input-1\n",
      "x:   [<source.objects.ARC_Object object at 0x0000013279698BD0>, <source.objects.ARC_Object object at 0x000001326DB28310>, <source.objects.ARC_Object object at 0x000001326DB24FD0>, <source.objects.ARC_Object object at 0x000001326DADC410>, <source.objects.ARC_Object object at 0x000001326DADDAD0>, <source.objects.ARC_Object object at 0x000001326DA8AAD0>, <source.objects.ARC_Object object at 0x000001326DB54610>, '<PAD>', '<PAD>', '<PAD>', '<PAD>', '<PAD>', '<PAD>', '<PAD>', '<PAD>', '<PAD>', '<SEP>', <source.objects.ARC_Object object at 0x000001327CBE8510>, <source.objects.ARC_Object object at 0x000001327CC21210>, <source.objects.ARC_Object object at 0x000001327CC21190>, <source.objects.ARC_Object object at 0x000001327CC212D0>, <source.objects.ARC_Object object at 0x000001327CC21310>, <source.objects.ARC_Object object at 0x000001327CC21350>, <source.objects.ARC_Object object at 0x000001327CC21450>, <source.objects.ARC_Object object at 0x000001327CC214D0>, <source.objects.ARC_Object object at 0x000001327CC21550>, '<PAD>', '<PAD>', '<PAD>', '<PAD>', '<PAD>', '<PAD>', '<PAD>']\n",
      "y:   [6, 7, 0, -1, -1, -1, -1, -1]\n",
      "Obj idx previous step applied to: 1\n",
      "\n",
      "\n",
      "Problem ID: 49d1d64f-input-0, [3/3]\n",
      "Transformation applied: draw_line, rotate, draw_line on objects.\n",
      "Input:\n"
     ]
    },
    {
     "data": {
      "image/png": "[encoded data removed]",
      "text/plain": [
       "<Figure size 300x300 with 1 Axes>"
      ]
     },
     "metadata": {},
     "output_type": "display_data"
    },
    {
     "name": "stdout",
     "output_type": "stream",
     "text": [
      "Output:\n"
     ]
    },
    {
     "data": {
      "image/png": "[encoded data removed]",
      "text/plain": [
       "<Figure size 300x300 with 1 Axes>"
      ]
     },
     "metadata": {},
     "output_type": "display_data"
    },
    {
     "name": "stdout",
     "output_type": "stream",
     "text": [
      "Key: 49d1d64f-input-0\n",
      "x:   [<source.objects.ARC_Object object at 0x0000013279683810>, <source.objects.ARC_Object object at 0x000001326DA89710>, <source.objects.ARC_Object object at 0x000001326DB28A90>, '<PAD>', '<PAD>', '<PAD>', '<PAD>', '<PAD>', '<PAD>', '<PAD>', '<PAD>', '<PAD>', '<PAD>', '<PAD>', '<PAD>', '<PAD>', '<SEP>', <source.objects.ARC_Object object at 0x000001326DADFD10>, <source.objects.ARC_Object object at 0x000001326DB47F50>, <source.objects.ARC_Object object at 0x000001326DADCE50>, '<PAD>', '<PAD>', '<PAD>', '<PAD>', '<PAD>', '<PAD>', '<PAD>', '<PAD>', '<PAD>', '<PAD>', '<PAD>', '<PAD>', '<PAD>']\n",
      "y:   [8, 1, 8, -1, -1, -1, -1, -1]\n",
      "Obj idx previous step applied to: 0\n",
      "\n",
      "\n",
      "Problem ID: 8be77c9e-input-1, [3/3]\n",
      "Transformation applied: flip, draw_line, recolor on objects.\n",
      "Input:\n"
     ]
    },
    {
     "data": {
      "image/png": "[encoded data removed]",
      "text/plain": [
       "<Figure size 300x300 with 1 Axes>"
      ]
     },
     "metadata": {},
     "output_type": "display_data"
    },
    {
     "name": "stdout",
     "output_type": "stream",
     "text": [
      "Output:\n"
     ]
    },
    {
     "data": {
      "image/png": "[encoded data removed]",
      "text/plain": [
       "<Figure size 300x300 with 1 Axes>"
      ]
     },
     "metadata": {},
     "output_type": "display_data"
    },
    {
     "name": "stdout",
     "output_type": "stream",
     "text": [
      "Key: 8be77c9e-input-1\n",
      "x:   [<source.objects.ARC_Object object at 0x00000132796E8190>, <source.objects.ARC_Object object at 0x000001327CC00410>, <source.objects.ARC_Object object at 0x000001327CC69890>, '<PAD>', '<PAD>', '<PAD>', '<PAD>', '<PAD>', '<PAD>', '<PAD>', '<PAD>', '<PAD>', '<PAD>', '<PAD>', '<PAD>', '<PAD>', '<SEP>', <source.objects.ARC_Object object at 0x000001327CC9DF10>, <source.objects.ARC_Object object at 0x000001327CC9D850>, <source.objects.ARC_Object object at 0x000001327CC9E350>, <source.objects.ARC_Object object at 0x000001327CC9D890>, '<PAD>', '<PAD>', '<PAD>', '<PAD>', '<PAD>', '<PAD>', '<PAD>', '<PAD>', '<PAD>', '<PAD>', '<PAD>', '<PAD>']\n",
      "y:   [2, 8, 0, -1, -1, -1, -1, -1]\n",
      "Obj idx previous step applied to: 2\n",
      "\n",
      "\n",
      "Problem ID: b94a9452-input-1, [3/3]\n",
      "Transformation applied: recolor, rotate, flip on base.\n",
      "Input:\n"
     ]
    },
    {
     "data": {
      "image/png": "[encoded data removed]",
      "text/plain": [
       "<Figure size 300x300 with 1 Axes>"
      ]
     },
     "metadata": {},
     "output_type": "display_data"
    },
    {
     "name": "stdout",
     "output_type": "stream",
     "text": [
      "Output:\n"
     ]
    },
    {
     "data": {
      "image/png": "[encoded data removed]",
      "text/plain": [
       "<Figure size 300x300 with 1 Axes>"
      ]
     },
     "metadata": {},
     "output_type": "display_data"
    },
    {
     "name": "stdout",
     "output_type": "stream",
     "text": [
      "Key: b94a9452-input-1\n",
      "x:   [<source.objects.ARC_Object object at 0x00000132797360D0>, <source.objects.ARC_Object object at 0x000001327CC911D0>, <source.objects.ARC_Object object at 0x000001327CC74610>, <source.objects.ARC_Object object at 0x000001327CC7B0D0>, '<PAD>', '<PAD>', '<PAD>', '<PAD>', '<PAD>', '<PAD>', '<PAD>', '<PAD>', '<PAD>', '<PAD>', '<PAD>', '<PAD>', '<SEP>', <source.objects.ARC_Object object at 0x000001326DA83750>, <source.objects.ARC_Object object at 0x000001326DA803D0>, <source.objects.ARC_Object object at 0x000001326DA83A50>, <source.objects.ARC_Object object at 0x000001326DA81450>, '<PAD>', '<PAD>', '<PAD>', '<PAD>', '<PAD>', '<PAD>', '<PAD>', '<PAD>', '<PAD>', '<PAD>', '<PAD>', '<PAD>']\n",
      "y:   [0, 1, 2, -1, -1, -1, -1, -1]\n",
      "Obj idx previous step applied to: 0\n",
      "\n",
      "\n",
      "Problem ID: eb281b96-input-0, [3/3]\n",
      "Transformation applied: draw_line, rotate, recolor on objects.\n",
      "Input:\n"
     ]
    },
    {
     "data": {
      "image/png": "[encoded data removed]",
      "text/plain": [
       "<Figure size 300x300 with 1 Axes>"
      ]
     },
     "metadata": {},
     "output_type": "display_data"
    },
    {
     "name": "stdout",
     "output_type": "stream",
     "text": [
      "Output:\n"
     ]
    },
    {
     "data": {
      "image/png": "[encoded data removed]",
      "text/plain": [
       "<Figure size 300x300 with 1 Axes>"
      ]
     },
     "metadata": {},
     "output_type": "display_data"
    },
    {
     "name": "stdout",
     "output_type": "stream",
     "text": [
      "Key: eb281b96-input-0\n",
      "x:   [<source.objects.ARC_Object object at 0x000001327974C7D0>, <source.objects.ARC_Object object at 0x000001326DADD890>, <source.objects.ARC_Object object at 0x000001326DB3C910>, '<PAD>', '<PAD>', '<PAD>', '<PAD>', '<PAD>', '<PAD>', '<PAD>', '<PAD>', '<PAD>', '<PAD>', '<PAD>', '<PAD>', '<PAD>', '<SEP>', <source.objects.ARC_Object object at 0x000001327CCE3990>, <source.objects.ARC_Object object at 0x000001327CCE3E10>, <source.objects.ARC_Object object at 0x000001327CCE3C90>, <source.objects.ARC_Object object at 0x000001327CCE3E50>, <source.objects.ARC_Object object at 0x000001327CCE3E90>, <source.objects.ARC_Object object at 0x000001327CCE3F50>, <source.objects.ARC_Object object at 0x000001327CCF8050>, '<PAD>', '<PAD>', '<PAD>', '<PAD>', '<PAD>', '<PAD>', '<PAD>', '<PAD>', '<PAD>']\n",
      "y:   [8, 1, 0, -1, -1, -1, -1, -1]\n",
      "Obj idx previous step applied to: 4\n",
      "\n",
      "\n",
      "Problem ID: 662c240a-input-0, [3/3]\n",
      "Transformation applied: flip, flip, copy_translate on objects.\n",
      "Input:\n"
     ]
    },
    {
     "data": {
      "image/png": "[encoded data removed]",
      "text/plain": [
       "<Figure size 300x300 with 1 Axes>"
      ]
     },
     "metadata": {},
     "output_type": "display_data"
    },
    {
     "name": "stdout",
     "output_type": "stream",
     "text": [
      "Output:\n"
     ]
    },
    {
     "data": {
      "image/png": "[encoded data removed]",
      "text/plain": [
       "<Figure size 300x300 with 1 Axes>"
      ]
     },
     "metadata": {},
     "output_type": "display_data"
    },
    {
     "name": "stdout",
     "output_type": "stream",
     "text": [
      "Key: 662c240a-input-0\n",
      "x:   [<source.objects.ARC_Object object at 0x00000132796AEFD0>, <source.objects.ARC_Object object at 0x000001326DB56C90>, <source.objects.ARC_Object object at 0x000001327981EBD0>, '<PAD>', '<PAD>', '<PAD>', '<PAD>', '<PAD>', '<PAD>', '<PAD>', '<PAD>', '<PAD>', '<PAD>', '<PAD>', '<PAD>', '<PAD>', '<SEP>', <source.objects.ARC_Object object at 0x000001326DAA8B10>, <source.objects.ARC_Object object at 0x000001326DA92D10>, <source.objects.ARC_Object object at 0x000001326DA82CD0>, '<PAD>', '<PAD>', '<PAD>', '<PAD>', '<PAD>', '<PAD>', '<PAD>', '<PAD>', '<PAD>', '<PAD>', '<PAD>', '<PAD>', '<PAD>']\n",
      "y:   [2, 2, 7, -1, -1, -1, -1, -1]\n",
      "Obj idx previous step applied to: 1\n",
      "\n",
      "\n",
      "Problem ID: f2829549-input-1, [3/3]\n",
      "Transformation applied: rotate, translate, draw_line on objects.\n",
      "Input:\n"
     ]
    },
    {
     "data": {
      "image/png": "[encoded data removed]",
      "text/plain": [
       "<Figure size 300x300 with 1 Axes>"
      ]
     },
     "metadata": {},
     "output_type": "display_data"
    },
    {
     "name": "stdout",
     "output_type": "stream",
     "text": [
      "Output:\n"
     ]
    },
    {
     "data": {
      "image/png": "[encoded data removed]",
      "text/plain": [
       "<Figure size 300x300 with 1 Axes>"
      ]
     },
     "metadata": {},
     "output_type": "display_data"
    },
    {
     "name": "stdout",
     "output_type": "stream",
     "text": [
      "Key: f2829549-input-1\n",
      "x:   [<source.objects.ARC_Object object at 0x0000013279787E10>, <source.objects.ARC_Object object at 0x000001327CCE2050>, <source.objects.ARC_Object object at 0x000001326DB26810>, <source.objects.ARC_Object object at 0x000001326DA81150>, <source.objects.ARC_Object object at 0x000001326DB24850>, '<PAD>', '<PAD>', '<PAD>', '<PAD>', '<PAD>', '<PAD>', '<PAD>', '<PAD>', '<PAD>', '<PAD>', '<PAD>', '<SEP>', <source.objects.ARC_Object object at 0x000001327CD2CC10>, <source.objects.ARC_Object object at 0x000001327CD2D010>, <source.objects.ARC_Object object at 0x000001327CD2D0D0>, <source.objects.ARC_Object object at 0x000001327CD2D150>, <source.objects.ARC_Object object at 0x000001327CD2D1D0>, '<PAD>', '<PAD>', '<PAD>', '<PAD>', '<PAD>', '<PAD>', '<PAD>', '<PAD>', '<PAD>', '<PAD>', '<PAD>']\n",
      "y:   [1, 5, 8, -1, -1, -1, -1, -1]\n",
      "Obj idx previous step applied to: 1\n",
      "\n",
      "\n",
      "Problem ID: 623ea044-input-1, [3/3]\n",
      "Transformation applied: translate, translate, single_copy on objects.\n",
      "Input:\n"
     ]
    },
    {
     "data": {
      "image/png": "[encoded data removed]",
      "text/plain": [
       "<Figure size 300x300 with 1 Axes>"
      ]
     },
     "metadata": {},
     "output_type": "display_data"
    },
    {
     "name": "stdout",
     "output_type": "stream",
     "text": [
      "Output:\n"
     ]
    },
    {
     "data": {
      "image/png": "[encoded data removed]",
      "text/plain": [
       "<Figure size 300x300 with 1 Axes>"
      ]
     },
     "metadata": {},
     "output_type": "display_data"
    },
    {
     "name": "stdout",
     "output_type": "stream",
     "text": [
      "Key: 623ea044-input-1\n",
      "x:   [<source.objects.ARC_Object object at 0x00000132796AF5D0>, <source.objects.ARC_Object object at 0x000001327CD2C210>, <source.objects.ARC_Object object at 0x000001326DAB4C10>, '<PAD>', '<PAD>', '<PAD>', '<PAD>', '<PAD>', '<PAD>', '<PAD>', '<PAD>', '<PAD>', '<PAD>', '<PAD>', '<PAD>', '<PAD>', '<SEP>', <source.objects.ARC_Object object at 0x000001326DA772D0>, <source.objects.ARC_Object object at 0x0000013279816150>, <source.objects.ARC_Object object at 0x000001326DA77210>, <source.objects.ARC_Object object at 0x000001326DA770D0>, '<PAD>', '<PAD>', '<PAD>', '<PAD>', '<PAD>', '<PAD>', '<PAD>', '<PAD>', '<PAD>', '<PAD>', '<PAD>', '<PAD>']\n",
      "y:   [5, 5, 6, -1, -1, -1, -1, -1]\n",
      "Obj idx previous step applied to: 0\n",
      "\n",
      "\n",
      "Problem ID: 3f7978a0-input-2, [3/3]\n",
      "Transformation applied: recolor, recolor, rotate on base.\n",
      "Input:\n"
     ]
    },
    {
     "data": {
      "image/png": "[encoded data removed]",
      "text/plain": [
       "<Figure size 300x300 with 1 Axes>"
      ]
     },
     "metadata": {},
     "output_type": "display_data"
    },
    {
     "name": "stdout",
     "output_type": "stream",
     "text": [
      "Output:\n"
     ]
    },
    {
     "data": {
      "image/png": "[encoded data removed]",
      "text/plain": [
       "<Figure size 300x300 with 1 Axes>"
      ]
     },
     "metadata": {},
     "output_type": "display_data"
    },
    {
     "name": "stdout",
     "output_type": "stream",
     "text": [
      "Key: 3f7978a0-input-2\n",
      "x:   [<source.objects.ARC_Object object at 0x0000013279699610>, <source.objects.ARC_Object object at 0x000001326DB33890>, <source.objects.ARC_Object object at 0x000001327CD07FD0>, <source.objects.ARC_Object object at 0x000001326DB0C090>, <source.objects.ARC_Object object at 0x000001327CCBF290>, <source.objects.ARC_Object object at 0x000001327CC75A50>, <source.objects.ARC_Object object at 0x000001327CC619D0>, <source.objects.ARC_Object object at 0x0000013272F04610>, <source.objects.ARC_Object object at 0x00000132728B07D0>, <source.objects.ARC_Object object at 0x000001327CD58750>, <source.objects.ARC_Object object at 0x00000132728C7010>, '<PAD>', '<PAD>', '<PAD>', '<PAD>', '<PAD>', '<SEP>', <source.objects.ARC_Object object at 0x000001327CD7A010>, <source.objects.ARC_Object object at 0x000001327CD7A510>, <source.objects.ARC_Object object at 0x000001327CD7A210>, <source.objects.ARC_Object object at 0x000001327CD7A550>, <source.objects.ARC_Object object at 0x000001327CD7A590>, <source.objects.ARC_Object object at 0x000001327CD7A5D0>, <source.objects.ARC_Object object at 0x000001327CD7A690>, <source.objects.ARC_Object object at 0x000001327CD7A650>, <source.objects.ARC_Object object at 0x000001327CD7A6D0>, <source.objects.ARC_Object object at 0x000001327CD7A710>, <source.objects.ARC_Object object at 0x000001327CD7A610>, '<PAD>', '<PAD>', '<PAD>', '<PAD>', '<PAD>']\n",
      "y:   [0, 0, 1, -1, -1, -1, -1, -1]\n",
      "Obj idx previous step applied to: 0\n",
      "\n",
      "\n",
      "Problem ID: 681b3aeb-input-2, [3/3]\n",
      "Transformation applied: draw_line, single_copy, delete on objects.\n",
      "Input:\n"
     ]
    },
    {
     "data": {
      "image/png": "[encoded data removed]",
      "text/plain": [
       "<Figure size 300x300 with 1 Axes>"
      ]
     },
     "metadata": {},
     "output_type": "display_data"
    },
    {
     "name": "stdout",
     "output_type": "stream",
     "text": [
      "Output:\n"
     ]
    },
    {
     "data": {
      "image/png": "[encoded data removed]",
      "text/plain": [
       "<Figure size 300x300 with 1 Axes>"
      ]
     },
     "metadata": {},
     "output_type": "display_data"
    },
    {
     "name": "stdout",
     "output_type": "stream",
     "text": [
      "Key: 681b3aeb-input-2\n",
      "x:   [<source.objects.ARC_Object object at 0x00000132796AD950>, <source.objects.ARC_Object object at 0x000001326DA93150>, <source.objects.ARC_Object object at 0x000001326DA93790>, <source.objects.ARC_Object object at 0x000001326DB25B10>, '<PAD>', '<PAD>', '<PAD>', '<PAD>', '<PAD>', '<PAD>', '<PAD>', '<PAD>', '<PAD>', '<PAD>', '<PAD>', '<PAD>', '<SEP>', <source.objects.ARC_Object object at 0x000001326DAF2010>, <source.objects.ARC_Object object at 0x000001327CC52F90>, <source.objects.ARC_Object object at 0x000001327CC50D10>, <source.objects.ARC_Object object at 0x000001327CC52750>, '<PAD>', '<PAD>', '<PAD>', '<PAD>', '<PAD>', '<PAD>', '<PAD>', '<PAD>', '<PAD>', '<PAD>', '<PAD>', '<PAD>']\n",
      "y:   [8, 6, 4, -1, -1, -1, -1, -1]\n",
      "Obj idx previous step applied to: 2\n",
      "\n",
      "\n",
      "Problem ID: 178fcbfb-input-0, [3/3]\n",
      "Transformation applied: single_copy, rotate, draw_line on objects.\n",
      "Input:\n"
     ]
    },
    {
     "data": {
      "image/png": "[encoded data removed]",
      "text/plain": [
       "<Figure size 300x300 with 1 Axes>"
      ]
     },
     "metadata": {},
     "output_type": "display_data"
    },
    {
     "name": "stdout",
     "output_type": "stream",
     "text": [
      "Output:\n"
     ]
    },
    {
     "data": {
      "image/png": "[encoded data removed]",
      "text/plain": [
       "<Figure size 300x300 with 1 Axes>"
      ]
     },
     "metadata": {},
     "output_type": "display_data"
    },
    {
     "name": "stdout",
     "output_type": "stream",
     "text": [
      "Key: 178fcbfb-input-0\n",
      "x:   [<source.objects.ARC_Object object at 0x0000013279651E50>, <source.objects.ARC_Object object at 0x000001326DA80A50>, <source.objects.ARC_Object object at 0x000001326DAA9E10>, <source.objects.ARC_Object object at 0x000001326DA81E10>, <source.objects.ARC_Object object at 0x000001327CD0B910>, '<PAD>', '<PAD>', '<PAD>', '<PAD>', '<PAD>', '<PAD>', '<PAD>', '<PAD>', '<PAD>', '<PAD>', '<PAD>', '<SEP>', <source.objects.ARC_Object object at 0x000001327CDCDDD0>, <source.objects.ARC_Object object at 0x000001327CDCE310>, <source.objects.ARC_Object object at 0x000001327CDCE390>, <source.objects.ARC_Object object at 0x000001327CDCE410>, <source.objects.ARC_Object object at 0x000001327CDCE490>, <source.objects.ARC_Object object at 0x000001327CDCE510>, '<PAD>', '<PAD>', '<PAD>', '<PAD>', '<PAD>', '<PAD>', '<PAD>', '<PAD>', '<PAD>', '<PAD>']\n",
      "y:   [6, 1, 8, -1, -1, -1, -1, -1]\n",
      "Obj idx previous step applied to: 2\n",
      "\n",
      "\n",
      "Problem ID: 794b24be-input-3, [3/3]\n",
      "Transformation applied: draw_line, recolor, color on objects.\n",
      "Input:\n"
     ]
    },
    {
     "data": {
      "image/png": "[encoded data removed]",
      "text/plain": [
       "<Figure size 300x300 with 1 Axes>"
      ]
     },
     "metadata": {},
     "output_type": "display_data"
    },
    {
     "name": "stdout",
     "output_type": "stream",
     "text": [
      "Output:\n"
     ]
    },
    {
     "data": {
      "image/png": "[encoded data removed]",
      "text/plain": [
       "<Figure size 300x300 with 1 Axes>"
      ]
     },
     "metadata": {},
     "output_type": "display_data"
    },
    {
     "name": "stdout",
     "output_type": "stream",
     "text": [
      "Key: 794b24be-input-3\n",
      "x:   [<source.objects.ARC_Object object at 0x00000132796CFB50>, <source.objects.ARC_Object object at 0x000001327CD188D0>, <source.objects.ARC_Object object at 0x000001327CD25290>, '<PAD>', '<PAD>', '<PAD>', '<PAD>', '<PAD>', '<PAD>', '<PAD>', '<PAD>', '<PAD>', '<PAD>', '<PAD>', '<PAD>', '<PAD>', '<SEP>', <source.objects.ARC_Object object at 0x000001327CC3C110>, <source.objects.ARC_Object object at 0x000001327288A390>, <source.objects.ARC_Object object at 0x000001327288A190>, <source.objects.ARC_Object object at 0x0000013272889DD0>, '<PAD>', '<PAD>', '<PAD>', '<PAD>', '<PAD>', '<PAD>', '<PAD>', '<PAD>', '<PAD>', '<PAD>', '<PAD>', '<PAD>']\n",
      "y:   [8, 0, 3, -1, -1, -1, -1, -1]\n",
      "Obj idx previous step applied to: 2\n",
      "\n",
      "\n",
      "Problem ID: 834ec97d-input-1, [3/3]\n",
      "Transformation applied: recolor, recolor, recolor on base.\n",
      "Input:\n"
     ]
    },
    {
     "data": {
      "image/png": "[encoded data removed]",
      "text/plain": [
       "<Figure size 300x300 with 1 Axes>"
      ]
     },
     "metadata": {},
     "output_type": "display_data"
    },
    {
     "name": "stdout",
     "output_type": "stream",
     "text": [
      "Output:\n"
     ]
    },
    {
     "data": {
      "image/png": "[encoded data removed]",
      "text/plain": [
       "<Figure size 300x300 with 1 Axes>"
      ]
     },
     "metadata": {},
     "output_type": "display_data"
    },
    {
     "name": "stdout",
     "output_type": "stream",
     "text": [
      "Key: 834ec97d-input-1\n",
      "x:   [<source.objects.ARC_Object object at 0x00000132796FA490>, <source.objects.ARC_Object object at 0x000001327CD4DC90>, <source.objects.ARC_Object object at 0x000001327CDE5C10>, '<PAD>', '<PAD>', '<PAD>', '<PAD>', '<PAD>', '<PAD>', '<PAD>', '<PAD>', '<PAD>', '<PAD>', '<PAD>', '<PAD>', '<PAD>', '<SEP>', <source.objects.ARC_Object object at 0x000001327CE11D50>, <source.objects.ARC_Object object at 0x000001326DA81710>, <source.objects.ARC_Object object at 0x000001327CE11890>, '<PAD>', '<PAD>', '<PAD>', '<PAD>', '<PAD>', '<PAD>', '<PAD>', '<PAD>', '<PAD>', '<PAD>', '<PAD>', '<PAD>', '<PAD>']\n",
      "y:   [0, 0, 0, -1, -1, -1, -1, -1]\n",
      "Obj idx previous step applied to: 0\n",
      "\n",
      "\n",
      "Problem ID: 4612dd53-input-2, [3/3]\n",
      "Transformation applied: recolor, copy_translate, draw_line on objects.\n",
      "Input:\n"
     ]
    },
    {
     "data": {
      "image/png": "[encoded data removed]",
      "text/plain": [
       "<Figure size 300x300 with 1 Axes>"
      ]
     },
     "metadata": {},
     "output_type": "display_data"
    },
    {
     "name": "stdout",
     "output_type": "stream",
     "text": [
      "Output:\n"
     ]
    },
    {
     "data": {
      "image/png": "[encoded data removed]",
      "text/plain": [
       "<Figure size 300x300 with 1 Axes>"
      ]
     },
     "metadata": {},
     "output_type": "display_data"
    },
    {
     "name": "stdout",
     "output_type": "stream",
     "text": [
      "Key: 4612dd53-input-2\n",
      "x:   [<source.objects.ARC_Object object at 0x000001327969BD90>, <source.objects.ARC_Object object at 0x000001327CDFBC50>, <source.objects.ARC_Object object at 0x000001327CDED790>, '<PAD>', '<PAD>', '<PAD>', '<PAD>', '<PAD>', '<PAD>', '<PAD>', '<PAD>', '<PAD>', '<PAD>', '<PAD>', '<PAD>', '<PAD>', '<SEP>', <source.objects.ARC_Object object at 0x000001327CE05ED0>, <source.objects.ARC_Object object at 0x000001327CDFBE50>, <source.objects.ARC_Object object at 0x000001327CDFB690>, '<PAD>', '<PAD>', '<PAD>', '<PAD>', '<PAD>', '<PAD>', '<PAD>', '<PAD>', '<PAD>', '<PAD>', '<PAD>', '<PAD>', '<PAD>']\n",
      "y:   [0, 7, 8, -1, -1, -1, -1, -1]\n",
      "Obj idx previous step applied to: 0\n",
      "\n",
      "\n",
      "Problem ID: 890034e9-input-0, [3/3]\n",
      "Transformation applied: single_copy, draw_line, rotate on objects.\n",
      "Input:\n"
     ]
    },
    {
     "data": {
      "image/png": "[encoded data removed]",
      "text/plain": [
       "<Figure size 300x300 with 1 Axes>"
      ]
     },
     "metadata": {},
     "output_type": "display_data"
    },
    {
     "name": "stdout",
     "output_type": "stream",
     "text": [
      "Output:\n"
     ]
    },
    {
     "data": {
      "image/png": "[encoded data removed]",
      "text/plain": [
       "<Figure size 300x300 with 1 Axes>"
      ]
     },
     "metadata": {},
     "output_type": "display_data"
    },
    {
     "name": "stdout",
     "output_type": "stream",
     "text": [
      "Key: 890034e9-input-0\n",
      "x:   [<source.objects.ARC_Object object at 0x00000132796F9610>, <source.objects.ARC_Object object at 0x000001327CCD2250>, <source.objects.ARC_Object object at 0x000001326DB276D0>, <source.objects.ARC_Object object at 0x000001327CCD1FD0>, <source.objects.ARC_Object object at 0x000001327CE10810>, '<PAD>', '<PAD>', '<PAD>', '<PAD>', '<PAD>', '<PAD>', '<PAD>', '<PAD>', '<PAD>', '<PAD>', '<PAD>', '<SEP>', <source.objects.ARC_Object object at 0x000001326DB32CD0>, <source.objects.ARC_Object object at 0x000001326DB31FD0>, <source.objects.ARC_Object object at 0x000001326DB31550>, <source.objects.ARC_Object object at 0x000001326DB33D90>, <source.objects.ARC_Object object at 0x000001326DB32750>, <source.objects.ARC_Object object at 0x000001326DB303D0>, '<PAD>', '<PAD>', '<PAD>', '<PAD>', '<PAD>', '<PAD>', '<PAD>', '<PAD>', '<PAD>', '<PAD>']\n",
      "y:   [6, 8, 1, -1, -1, -1, -1, -1]\n",
      "Obj idx previous step applied to: 2\n",
      "\n",
      "\n",
      "Problem ID: 25ff71a9-input-2, [3/3]\n",
      "Transformation applied: rotate, rotate, rotate on base.\n",
      "Input:\n"
     ]
    },
    {
     "data": {
      "image/png": "[encoded data removed]",
      "text/plain": [
       "<Figure size 300x300 with 1 Axes>"
      ]
     },
     "metadata": {},
     "output_type": "display_data"
    },
    {
     "name": "stdout",
     "output_type": "stream",
     "text": [
      "Output:\n"
     ]
    },
    {
     "data": {
      "image/png": "[encoded data removed]",
      "text/plain": [
       "<Figure size 300x300 with 1 Axes>"
      ]
     },
     "metadata": {},
     "output_type": "display_data"
    },
    {
     "name": "stdout",
     "output_type": "stream",
     "text": [
      "Key: 25ff71a9-input-2\n",
      "x:   [<source.objects.ARC_Object object at 0x00000132796559D0>, <source.objects.ARC_Object object at 0x000001327CE05CD0>, <source.objects.ARC_Object object at 0x00000132797F4750>, '<PAD>', '<PAD>', '<PAD>', '<PAD>', '<PAD>', '<PAD>', '<PAD>', '<PAD>', '<PAD>', '<PAD>', '<PAD>', '<PAD>', '<PAD>', '<SEP>', <source.objects.ARC_Object object at 0x000001326DADE210>, <source.objects.ARC_Object object at 0x000001327CCD2950>, <source.objects.ARC_Object object at 0x000001327CCD3050>, '<PAD>', '<PAD>', '<PAD>', '<PAD>', '<PAD>', '<PAD>', '<PAD>', '<PAD>', '<PAD>', '<PAD>', '<PAD>', '<PAD>', '<PAD>']\n",
      "y:   [1, 1, 1, -1, -1, -1, -1, -1]\n",
      "Obj idx previous step applied to: 0\n",
      "\n",
      "\n",
      "Problem ID: ddf7fa4f-input-2, [3/3]\n",
      "Transformation applied: rotate, flip, recolor on base.\n",
      "Input:\n"
     ]
    },
    {
     "data": {
      "image/png": "[encoded data removed]",
      "text/plain": [
       "<Figure size 300x300 with 1 Axes>"
      ]
     },
     "metadata": {},
     "output_type": "display_data"
    },
    {
     "name": "stdout",
     "output_type": "stream",
     "text": [
      "Output:\n"
     ]
    },
    {
     "data": {
      "image/png": "[encoded data removed]",
      "text/plain": [
       "<Figure size 300x300 with 1 Axes>"
      ]
     },
     "metadata": {},
     "output_type": "display_data"
    },
    {
     "name": "stdout",
     "output_type": "stream",
     "text": [
      "Key: ddf7fa4f-input-2\n",
      "x:   [<source.objects.ARC_Object object at 0x000001327974CED0>, <source.objects.ARC_Object object at 0x000001327CC9D050>, <source.objects.ARC_Object object at 0x000001326DAE5C10>, <source.objects.ARC_Object object at 0x000001327CCFBA90>, <source.objects.ARC_Object object at 0x000001327CCD0310>, <source.objects.ARC_Object object at 0x000001327CCD2810>, <source.objects.ARC_Object object at 0x000001327CC78ED0>, '<PAD>', '<PAD>', '<PAD>', '<PAD>', '<PAD>', '<PAD>', '<PAD>', '<PAD>', '<PAD>', '<SEP>', <source.objects.ARC_Object object at 0x000001326DB477D0>, <source.objects.ARC_Object object at 0x000001326DA8A1D0>, <source.objects.ARC_Object object at 0x000001326DA88A50>, <source.objects.ARC_Object object at 0x000001326DA8B610>, <source.objects.ARC_Object object at 0x000001326DA89E50>, <source.objects.ARC_Object object at 0x000001326DA881D0>, <source.objects.ARC_Object object at 0x000001326DA89A50>, '<PAD>', '<PAD>', '<PAD>', '<PAD>', '<PAD>', '<PAD>', '<PAD>', '<PAD>', '<PAD>']\n",
      "y:   [1, 2, 0, -1, -1, -1, -1, -1]\n",
      "Obj idx previous step applied to: 0\n",
      "\n",
      "\n"
     ]
    }
   ],
   "source": [
    "print_samples = loader_params['print_steps']\n",
    "\n",
    "for i in range(20):\n",
    "    try:\n",
    "        key, x, y, prev_idx = next(data_yielder)\n",
    "    except StopIteration as e:\n",
    "        continue\n",
    "    \n",
    "    if print_samples:\n",
    "        print(f\"Key: {key}\")\n",
    "        print(f\"x:   {x}\")\n",
    "        print(f\"y:   {y}\")\n",
    "        print(f\"Obj idx previous step applied to: {prev_idx}\")\n",
    "        print(\"\\n\")"
   ]
  }
 ],
 "metadata": {
  "kernelspec": {
   "display_name": "arc-291c",
   "language": "python",
   "name": "python3"
  },
  "language_info": {
   "codemirror_mode": {
    "name": "ipython",
    "version": 3
   },
   "file_extension": ".py",
   "mimetype": "text/x-python",
   "name": "python",
   "nbconvert_exporter": "python",
   "pygments_lexer": "ipython3",
   "version": "3.11.7"
  }
 },
 "nbformat": 4,
 "nbformat_minor": 2
}
