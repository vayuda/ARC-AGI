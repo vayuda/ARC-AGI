{
 "cells": [
  {
   "cell_type": "code",
   "execution_count": null,
   "metadata": {},
   "outputs": [],
   "source": [
    "# Import dependencies\n",
    "import torch\n",
    "import torch.nn.functional as F\n",
    "from torch.cuda.amp import autocast, GradScaler\n",
    "\n",
    "import pcfg_models as pcfg_models\n",
    "import pcfg_loader as loader\n",
    "import source as source\n",
    "\n",
    "\n",
    "scaler = GradScaler()\n",
    "device = 'cuda' if torch.cuda.is_available() else 'cpu'\n",
    "print(f\"Device: {device}\")"
   ]
  },
  {
   "cell_type": "code",
   "execution_count": null,
   "metadata": {},
   "outputs": [],
   "source": [
    "loader_params = {\n",
    "    'datafolder': 'training',\n",
    "    'batch_size': 1,\n",
    "    'shuffle': True,\n",
    "    'only_inputs': True,\n",
    "    'print_steps': False,\n",
    "    'moves_per_step': 1,\n",
    "    'max_steps': 1,\n",
    "    'p_use_base': 0.1,\n",
    "}\n",
    "\n",
    "data_yielder = loader.get_pcfg_datayielder(**loader_params)"
   ]
  },
  {
   "cell_type": "code",
   "execution_count": null,
   "metadata": {},
   "outputs": [],
   "source": [
    "# Instantiate our Encoder classifier\n",
    "dsl_list = data_yielder.label_ops\n",
    "embedding_model_fp = 'mobilenet_v2'\n",
    "em = source.embedding.load_mobilenet_v2()\n",
    "\n",
    "pcfg_encoder = pcfg_models.PCFG_Encoder(\n",
    "    n_embd = 64, \n",
    "    n_head = 4, \n",
    "    n_layer = 6, \n",
    "    ff_hd = 128, \n",
    "    dropout = 0, # This may cause issues if you make this non-zero\n",
    "    block_size = 35, \n",
    "    dsl_mapping = dsl_list, \n",
    "    embedding_model_fp = embedding_model_fp,\n",
    "    freeze_emb_model=True, \n",
    "    input_projection = True,\n",
    "    input_dim_size,\n",
    "    device = device\n",
    ")\n",
    "pcfg_encoder = pcfg_encoder.to(device)\n",
    "em = None   # Clear the model from memory\n",
    "\n",
    "# Use this to load in a pre-trained model instead\n",
    "# filename = ?\n",
    "# pcfg_encoder = pcfg_models.PCFG_Encoder.load_model(f\"trained_pcfg_models/{filename}\", print_statements=True, device=device)"
   ]
  }
 ],
 "metadata": {
  "language_info": {
   "name": "python"
  }
 },
 "nbformat": 4,
 "nbformat_minor": 2
}
