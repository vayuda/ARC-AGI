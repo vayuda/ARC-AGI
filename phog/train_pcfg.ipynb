{
 "cells": [
  {
   "cell_type": "markdown",
   "metadata": {},
   "source": [
    "# Main Training Book for Our PCFG"
   ]
  },
  {
   "cell_type": "code",
   "execution_count": 1,
   "metadata": {},
   "outputs": [
    {
     "name": "stdout",
     "output_type": "stream",
     "text": [
      "Device: cuda\n"
     ]
    }
   ],
   "source": [
    "# Import dependencies\n",
    "import torch\n",
    "\n",
    "import pcfg_models as pcfg_models\n",
    "import pcfg_loader as loader\n",
    "from synthetic_generator import get_dsl_operations\n",
    "import source as source\n",
    "import image_encoder as encoder\n",
    "\n",
    "device = 'cuda' if torch.cuda.is_available() else 'cpu'\n",
    "print(f\"Device: {device}\")"
   ]
  },
  {
   "cell_type": "code",
   "execution_count": 2,
   "metadata": {},
   "outputs": [],
   "source": [
    "# Import our data yielder\n",
    "data_folder = 'training'\n",
    "loader_params = {\n",
    "    'batch_size': 1,\n",
    "    'shuffle': True,\n",
    "    'only_inputs': True,\n",
    "    'print_steps': True,\n",
    "    'moves_per_step': 3,\n",
    "    'max_steps': 3,\n",
    "    'p_use_base': 0.25,\n",
    "}\n",
    "\n",
    "data_yielder = loader.get_pcfg_datayielder(data_folder, loader_params)"
   ]
  },
  {
   "cell_type": "code",
   "execution_count": 3,
   "metadata": {},
   "outputs": [
    {
     "name": "stderr",
     "output_type": "stream",
     "text": [
      "C:\\Users\\lucas\\Desktop\\UCSD\\291C - Program Synthesis\\Project\\ARC-AGI\\image_encoder\\transformers\\vision_transformer.py:275: FutureWarning: You are using `torch.load` with `weights_only=False` (the current default value), which uses the default pickle module implicitly. It is possible to construct malicious pickle data which will execute arbitrary code during unpickling (See https://github.com/pytorch/pytorch/blob/main/SECURITY.md#untrusted-models for more details). In a future release, the default value for `weights_only` will be flipped to `True`. This limits the functions that could be executed during unpickling. Arbitrary objects will no longer be allowed to be loaded via this mode unless they are explicitly allowlisted by the user via `torch.serialization.add_safe_globals`. We recommend you start setting `weights_only=True` for any use case where you don't have full control of the loaded file. Please open an issue on GitHub for any issues related to this experimental feature.\n",
      "  checkpoint = torch.load(path, map_location=torch.device(device))\n"
     ]
    },
    {
     "name": "stdout",
     "output_type": "stream",
     "text": [
      "Vision Transformer instantiated with 398,144 parameters using Sinusoidal encodings.\n"
     ]
    }
   ],
   "source": [
    "# Import our embedding model\n",
    "embedding_model = source.embedding.load_ViT(device)"
   ]
  },
  {
   "cell_type": "code",
   "execution_count": 4,
   "metadata": {},
   "outputs": [
    {
     "name": "stdout",
     "output_type": "stream",
     "text": [
      "Vision Transformer instantiated with 699,392 parameters.\n"
     ]
    }
   ],
   "source": [
    "# Instantiate our Encoder classifier\n",
    "dsl_list = data_yielder.label_ops\n",
    "pcfg_encoder = pcfg_models.PCFG_Encoder(\n",
    "    n_embd = embedding_model.model_params['embed_dim'], \n",
    "    n_head = 4, \n",
    "    n_layer = 6, \n",
    "    ff_hd = int(embedding_model.model_params['embed_dim'] * 4), \n",
    "    dropout = 0.2, \n",
    "    block_size = 33, \n",
    "    dsl_mapping = dsl_list, \n",
    "    embedding_model = embedding_model, \n",
    "    device = device\n",
    ")"
   ]
  },
  {
   "cell_type": "code",
   "execution_count": null,
   "metadata": {},
   "outputs": [],
   "source": [
    "# Loop through data\n",
    "print_samples = loader_params['print_steps']\n",
    "\n",
    "for i in range(20):\n",
    "    try:\n",
    "        key, x, y, prev_idx = next(data_yielder)\n",
    "    except StopIteration as e:\n",
    "        continue\n",
    "    \n",
    "    if print_samples:\n",
    "        print(f\"Key: {key}\")\n",
    "        print(f\"x:   {x}\")\n",
    "        print(f\"y:   {y}\")\n",
    "        print(f\"Obj idx previous step applied to: {prev_idx}\")\n",
    "        print(\"\\n\")"
   ]
  }
 ],
 "metadata": {
  "kernelspec": {
   "display_name": "arc-291c",
   "language": "python",
   "name": "python3"
  },
  "language_info": {
   "codemirror_mode": {
    "name": "ipython",
    "version": 3
   },
   "file_extension": ".py",
   "mimetype": "text/x-python",
   "name": "python",
   "nbconvert_exporter": "python",
   "pygments_lexer": "ipython3",
   "version": "3.11.7"
  }
 },
 "nbformat": 4,
 "nbformat_minor": 2
}
