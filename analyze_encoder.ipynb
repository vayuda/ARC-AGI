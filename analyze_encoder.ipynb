{
 "cells": [
  {
   "cell_type": "code",
   "execution_count": null,
   "id": "8b597eb8-aa06-4b55-b57c-48dec1be45e3",
   "metadata": {},
   "outputs": [
    {
     "name": "stdout",
     "output_type": "stream",
     "text": [
      "Device: cuda\n"
     ]
    }
   ],
   "source": [
    "import torch\n",
    "\n",
    "import .image_encoder.loader as loader\n",
    "import .image_encoder.utility as utility\n",
    "import .image_encoder.transformers as transformers\n",
    "\n",
    "device = 'cuda' if torch.cuda.is_available() else 'cpu'\n",
    "print(f\"Device: {device}\")"
   ]
  },
  {
   "cell_type": "code",
   "execution_count": 29,
   "id": "ced13427-f08e-4536-ade1-8aa24083da48",
   "metadata": {},
   "outputs": [],
   "source": [
    "loader_params = {\n",
    "    \"batch_size\": 1,\n",
    "    \"pad_images\": False,\n",
    "    \"percent_mask\": 0.0,\n",
    "    \"shuffle\": True\n",
    "}\n",
    "\n",
    "dataloader = loader.get_dataloader('dict_traindata.txt', loader_params)\n",
    "ViT = transformers.VisionTransformer.load_model('image_encoder/trained_models/vit_20241117_sinusoid60k_vF.pth')\n",
    "ViT = ViT.to(device)"
   ]
  },
  {
   "cell_type": "markdown",
   "id": "1dff26ad-d764-4b72-ab6c-ec803889b5bf",
   "metadata": {},
   "source": [
    "# Visualizing Our Attention"
   ]
  },
  {
   "cell_type": "code",
   "execution_count": 50,
   "id": "22c577d6-9e29-45ac-ac57-e9e345877d7e",
   "metadata": {},
   "outputs": [],
   "source": [
    "sample_u, sample_attn = None, None\n",
    "with torch.no_grad():\n",
    "    ViT.eval()\n",
    "    for i, (ids, u, u_masks, v, v_masks) in enumerate(dataloader):\n",
    "        B, H, W = u.shape\n",
    "        u = u.to(device)\n",
    "\n",
    "        # Forward pass\n",
    "        cls_logits, patch_logits, attn = ViT(u, save_attn=True, temperature=1)\n",
    "\n",
    "        sample_attn = attn[0][0, 1].cpu()\n",
    "        sample_u = u[0].cpu()\n",
    "        break"
   ]
  },
  {
   "cell_type": "code",
   "execution_count": 53,
   "id": "73103169-7bd9-41f5-b1f2-841f1994ac09",
   "metadata": {},
   "outputs": [
    {
     "data": {
      "image/png": "[encoded data removed]",
      "text/plain": [
       "<Figure size 500x500 with 1 Axes>"
      ]
     },
     "metadata": {},
     "output_type": "display_data"
    },
    {
     "data": {
      "image/png": "[encoded data removed]",
      "text/plain": [
       "<Figure size 600x600 with 2 Axes>"
      ]
     },
     "metadata": {},
     "output_type": "display_data"
    }
   ],
   "source": [
    "idx = utility.get_idx(x=1, y=1, CLS=False, size=sample_u.shape)\n",
    "utility.plot_tensor_with_highlight(sample_u, idx)\n",
    "utility.plot_attention_map(sample_attn, idx, size=sample_u.shape)"
   ]
  },
  {
   "cell_type": "markdown",
   "id": "c46c6a4c-8e68-4ade-a9ae-ed59db5d4348",
   "metadata": {},
   "source": [
    "# Cosine Sim on CLS Token"
   ]
  },
  {
   "cell_type": "code",
   "execution_count": null,
   "id": "c60f3e9b-cd63-4f60-a9f7-f781ea51db24",
   "metadata": {},
   "outputs": [],
   "source": [
    "# This will take some time -- it is generating CLS token embeddings for all images in the dataset\n",
    "ids_list = []\n",
    "images_tensor = []\n",
    "cls_tensor = []\n",
    "\n",
    "with torch.no_grad():\n",
    "    ViT.eval()\n",
    "    for i, (ids, u, u_masks, v, v_masks) in enumerate(dataloader):\n",
    "        B, H, W = u.shape\n",
    "        u = u.to(device)\n",
    "\n",
    "        cls_logits, _, _ = ViT(u, save_attn=False, temperature=1)\n",
    "\n",
    "        ids_list.extend(ids)\n",
    "        images_tensor.append(u.cpu())\n",
    "        cls_tensor.append(cls_logits[:, 0].cpu())\n",
    "        \n",
    "    images_tensor = torch.cat(images_tensor, dim=0)\n",
    "    cls_tensor = torch.cat(cls_tensor, dim=0)"
   ]
  },
  {
   "cell_type": "code",
   "execution_count": null,
   "id": "b7649265-ddda-4369-b610-9bbe35ea9251",
   "metadata": {},
   "outputs": [],
   "source": [
    "# Compute cosine similarity for given id\n",
    "# id  = 'd4a91cb9-train-output-1'\n",
    "# idx = ids_list.index(id)\n",
    "idx = 30\n",
    "\n",
    "print(f\"ID: {id}\")\n",
    "utility.plot_tensors_with_colors(images_tensor[idx:idx+1], f\"ID: {id}\")\n",
    "print(f\"{'='*60}\\n\")\n",
    "\n",
    "# Compute our closest and furthest embeddings\n",
    "k = 10\n",
    "closest_embeddings, closest_sims = utility.top_k_cosine_similarity(cls_tensor, idx, k, largest=True)\n",
    "furthest_embeddings, furthest_sims = utility.top_k_cosine_similarity(cls_tensor, idx, k, largest=False)\n",
    "\n",
    "\n",
    "print(f\"Closest {k} images:\")\n",
    "for i, closest_idx in enumerate(closest_embeddings):\n",
    "    closest_id = ids_list[closest_idx]\n",
    "    utility.plot_tensors_with_colors(images_tensor[closest_idx:closest_idx+1], f\"ID: {closest_id}\")\n",
    "    print(f\"Similarity = {closest_sims[i]:.3f}\\n\")\n",
    "\n",
    "print(f\"Furthest {k} images:\")\n",
    "for i, furthest_idx in enumerate(furthest_embeddings):\n",
    "    furthest_id = ids_list[furthest_idx]\n",
    "    utility.plot_tensors_with_colors(images_tensor[furthest_idx:furthest_idx+1], f\"ID: {furthest_id}\")\n",
    "    print(f\"Similarity = {furthest_sims[i]:.3f}\\n\")"
   ]
  }
 ],
 "metadata": {
  "kernelspec": {
   "display_name": "arc-291c",
   "language": "python",
   "name": "python3"
  },
  "language_info": {
   "codemirror_mode": {
    "name": "ipython",
    "version": 3
   },
   "file_extension": ".py",
   "mimetype": "text/x-python",
   "name": "python",
   "nbconvert_exporter": "python",
   "pygments_lexer": "ipython3",
   "version": "3.11.7"
  }
 },
 "nbformat": 4,
 "nbformat_minor": 5
}
