{
 "cells": [
  {
   "cell_type": "markdown",
   "metadata": {
    "vscode": {
     "languageId": "plaintext"
    }
   },
   "source": [
    "# Segmentation Notebook\n",
    "---\n",
    "Notebook to experiment / compare various segmentation algorithms."
   ]
  },
  {
   "cell_type": "code",
   "execution_count": 3,
   "metadata": {},
   "outputs": [],
   "source": [
    "import numpy as np\n",
    "import matplotlib.pyplot as plt\n",
    "\n",
    "import torch\n",
    "from torch.utils.data import DataLoader\n",
    "\n",
    "from load_data import load_dataset\n",
    "from segmentation import extract_objects\n",
    "from objects import ARC_Object\n",
    "from embedding import get_embedding, load_ViT\n",
    "from util import plot_image_and_mask"
   ]
  },
  {
   "cell_type": "code",
   "execution_count": 4,
   "metadata": {},
   "outputs": [],
   "source": [
    "train_dataset = load_dataset(mode='training')\n",
    "train_dataloader = DataLoader(train_dataset, batch_size=1, shuffle=True)\n",
    "test_dataset = load_dataset(mode='evaluation')\n",
    "test_dataloader = DataLoader(test_dataset, batch_size=1, shuffle=True)"
   ]
  },
  {
   "cell_type": "code",
   "execution_count": null,
   "metadata": {},
   "outputs": [
    {
     "name": "stdout",
     "output_type": "stream",
     "text": [
      "Problem 1b2d62fb:\n",
      "====================================================================================================\n",
      "\n",
      "Input Image:\n"
     ]
    },
    {
     "data": {
      "image/png": "[encoded data removed]",
      "text/plain": [
       "<Figure size 300x300 with 1 Axes>"
      ]
     },
     "metadata": {},
     "output_type": "display_data"
    },
    {
     "name": "stdout",
     "output_type": "stream",
     "text": [
      "\n",
      "Output Image:\n"
     ]
    },
    {
     "data": {
      "image/png": "[encoded data removed]",
      "text/plain": [
       "<Figure size 300x300 with 1 Axes>"
      ]
     },
     "metadata": {},
     "output_type": "display_data"
    },
    {
     "name": "stdout",
     "output_type": "stream",
     "text": [
      "Inputs further segmented into 2 objects.\n",
      "Outputs further segmented into 1 objects.\n"
     ]
    }
   ],
   "source": [
    "my_objs = dict()\n",
    "last_id = None\n",
    "\n",
    "# Main loop processing data\n",
    "for i, data in enumerate(train_dataloader):\n",
    "    id = data['id'][0]\n",
    "    last_id = id\n",
    "    train = data['train']\n",
    "    test = data['test']\n",
    "    \n",
    "    for t in train:\n",
    "        # Will work within numpy for simplicity\n",
    "        input_image = t['input'].squeeze(0).numpy()\n",
    "        output_image = t['output'].squeeze(0).numpy()\n",
    "\n",
    "        # Convert to ARC_Objects and add to our dict\n",
    "        input_object = ARC_Object(input_image, np.ones_like(input_image))\n",
    "        output_object = ARC_Object(output_image, np.ones_like(output_image))\n",
    "        my_objs[id] = {'input': [input_object], 'output': [output_object]}\n",
    "\n",
    "        # Print out problem (input and output)\n",
    "        print(f\"Problem {id}:\\n{'='*100}\")\n",
    "        print(\"\\nInput Image:\")\n",
    "        plot_image_and_mask(input_image)\n",
    "        print(\"\\nOutput Image:\")\n",
    "        plot_image_and_mask(output_image)\n",
    "        \n",
    "        # Extract objects using segmentation\n",
    "        input_extraction = extract_objects(input_object, method='contour_scale')\n",
    "        output_extraction  = extract_objects(output_object, method='contour_scale')\n",
    "        print(f\"Inputs further segmented into {len(input_extraction)} objects.\\nOutputs further segmented into {len(output_extraction)} objects.\")\n",
    "        # Add to our dict\n",
    "        my_objs[id]['input'].extend(input_extraction)\n",
    "        my_objs[id]['output'].extend(output_extraction)\n",
    "        break\n",
    "    break"
   ]
  },
  {
   "cell_type": "code",
   "execution_count": null,
   "metadata": {},
   "outputs": [
    {
     "name": "stdout",
     "output_type": "stream",
     "text": [
      "Input Source Object:\n",
      "====================================================================================================\n"
     ]
    },
    {
     "data": {
      "image/png": "[encoded data removed]",
      "text/plain": [
       "<Figure size 300x300 with 1 Axes>"
      ]
     },
     "metadata": {},
     "output_type": "display_data"
    },
    {
     "name": "stdout",
     "output_type": "stream",
     "text": [
      "Segmented Objects:\n",
      "====================================================================================================\n"
     ]
    },
    {
     "data": {
      "image/png": "[encoded data removed]",
      "text/plain": [
       "<Figure size 300x300 with 1 Axes>"
      ]
     },
     "metadata": {},
     "output_type": "display_data"
    },
    {
     "data": {
      "image/png": "[encoded data removed]",
      "text/plain": [
       "<Figure size 300x300 with 1 Axes>"
      ]
     },
     "metadata": {},
     "output_type": "display_data"
    },
    {
     "data": {
      "image/png": "[encoded data removed]",
      "text/plain": [
       "<Figure size 300x300 with 1 Axes>"
      ]
     },
     "metadata": {},
     "output_type": "display_data"
    },
    {
     "data": {
      "image/png": "[encoded data removed]",
      "text/plain": [
       "<Figure size 300x300 with 1 Axes>"
      ]
     },
     "metadata": {},
     "output_type": "display_data"
    },
    {
     "name": "stdout",
     "output_type": "stream",
     "text": [
      "Further segmented into 4 objects\n",
      "\n",
      "\n",
      "Input Source Object:\n",
      "====================================================================================================\n"
     ]
    },
    {
     "data": {
      "image/png": "[encoded data removed]",
      "text/plain": [
       "<Figure size 300x300 with 1 Axes>"
      ]
     },
     "metadata": {},
     "output_type": "display_data"
    },
    {
     "name": "stdout",
     "output_type": "stream",
     "text": [
      "Segmented Objects:\n",
      "====================================================================================================\n",
      "Further segmented into 0 objects\n",
      "\n",
      "\n",
      "Input Source Object:\n",
      "====================================================================================================\n"
     ]
    },
    {
     "data": {
      "image/png": "[encoded data removed]",
      "text/plain": [
       "<Figure size 300x300 with 1 Axes>"
      ]
     },
     "metadata": {},
     "output_type": "display_data"
    },
    {
     "name": "stdout",
     "output_type": "stream",
     "text": [
      "Segmented Objects:\n",
      "====================================================================================================\n",
      "Further segmented into 0 objects\n",
      "\n",
      "\n",
      "Input Source Object:\n",
      "====================================================================================================\n"
     ]
    },
    {
     "data": {
      "image/png": "[encoded data removed]",
      "text/plain": [
       "<Figure size 300x300 with 1 Axes>"
      ]
     },
     "metadata": {},
     "output_type": "display_data"
    },
    {
     "name": "stdout",
     "output_type": "stream",
     "text": [
      "Segmented Objects:\n",
      "====================================================================================================\n",
      "Further segmented into 0 objects\n",
      "\n",
      "\n",
      "Input Source Object:\n",
      "====================================================================================================\n"
     ]
    },
    {
     "data": {
      "image/png": "[encoded data removed]",
      "text/plain": [
       "<Figure size 300x300 with 1 Axes>"
      ]
     },
     "metadata": {},
     "output_type": "display_data"
    },
    {
     "name": "stdout",
     "output_type": "stream",
     "text": [
      "Segmented Objects:\n",
      "====================================================================================================\n",
      "Further segmented into 0 objects\n",
      "\n",
      "\n",
      "\n",
      "\n",
      "\n",
      "Output Source Object:\n",
      "====================================================================================================\n"
     ]
    },
    {
     "data": {
      "image/png": "[encoded data removed]",
      "text/plain": [
       "<Figure size 300x300 with 1 Axes>"
      ]
     },
     "metadata": {},
     "output_type": "display_data"
    },
    {
     "name": "stdout",
     "output_type": "stream",
     "text": [
      "Segmented Objects:\n",
      "====================================================================================================\n"
     ]
    },
    {
     "data": {
      "image/png": "[encoded data removed]",
      "text/plain": [
       "<Figure size 300x300 with 1 Axes>"
      ]
     },
     "metadata": {},
     "output_type": "display_data"
    },
    {
     "data": {
      "image/png": "[encoded data removed]",
      "text/plain": [
       "<Figure size 300x300 with 1 Axes>"
      ]
     },
     "metadata": {},
     "output_type": "display_data"
    },
    {
     "data": {
      "image/png": "[encoded data removed]",
      "text/plain": [
       "<Figure size 300x300 with 1 Axes>"
      ]
     },
     "metadata": {},
     "output_type": "display_data"
    },
    {
     "data": {
      "image/png": "[encoded data removed]",
      "text/plain": [
       "<Figure size 300x300 with 1 Axes>"
      ]
     },
     "metadata": {},
     "output_type": "display_data"
    },
    {
     "name": "stdout",
     "output_type": "stream",
     "text": [
      "Further segmented into 4 objects\n",
      "\n",
      "\n",
      "Output Source Object:\n",
      "====================================================================================================\n"
     ]
    },
    {
     "data": {
      "image/png": "[encoded data removed]",
      "text/plain": [
       "<Figure size 300x300 with 1 Axes>"
      ]
     },
     "metadata": {},
     "output_type": "display_data"
    },
    {
     "name": "stdout",
     "output_type": "stream",
     "text": [
      "Segmented Objects:\n",
      "====================================================================================================\n",
      "Further segmented into 0 objects\n",
      "\n",
      "\n",
      "Output Source Object:\n",
      "====================================================================================================\n"
     ]
    },
    {
     "data": {
      "image/png": "[encoded data removed]",
      "text/plain": [
       "<Figure size 300x300 with 1 Axes>"
      ]
     },
     "metadata": {},
     "output_type": "display_data"
    },
    {
     "name": "stdout",
     "output_type": "stream",
     "text": [
      "Segmented Objects:\n",
      "====================================================================================================\n",
      "Further segmented into 0 objects\n",
      "\n",
      "\n",
      "Output Source Object:\n",
      "====================================================================================================\n"
     ]
    },
    {
     "data": {
      "image/png": "[encoded data removed]",
      "text/plain": [
       "<Figure size 300x300 with 1 Axes>"
      ]
     },
     "metadata": {},
     "output_type": "display_data"
    },
    {
     "name": "stdout",
     "output_type": "stream",
     "text": [
      "Segmented Objects:\n",
      "====================================================================================================\n",
      "Further segmented into 0 objects\n",
      "\n",
      "\n",
      "Output Source Object:\n",
      "====================================================================================================\n"
     ]
    },
    {
     "data": {
      "image/png": "[encoded data removed]",
      "text/plain": [
       "<Figure size 300x300 with 1 Axes>"
      ]
     },
     "metadata": {},
     "output_type": "display_data"
    },
    {
     "name": "stdout",
     "output_type": "stream",
     "text": [
      "Segmented Objects:\n",
      "====================================================================================================\n",
      "Further segmented into 0 objects\n",
      "\n",
      "\n"
     ]
    }
   ],
   "source": [
    "# problem_id = \"178fcbfb\"\n",
    "problem_id = last_id\n",
    "\n",
    "input_objs = my_objs[problem_id]['input']\n",
    "output_objs = my_objs[problem_id]['output']\n",
    "print_segmented_objects = True\n",
    "\n",
    "for obj in input_objs:\n",
    "    print(f\"Input Source Object:\\n{'='*100}\")\n",
    "    obj.plot_grid()\n",
    "    print(f\"Segmented Objects:\\n{'='*100}\")\n",
    "    new_objs = extract_objects(obj, method='color', print_on_init=print_segmented_objects)\n",
    "    print(f\"Further segmented into {len(new_objs)} objects\\n\\n\")\n",
    "\n",
    "print(f\"\\n\\n\")\n",
    "for obj in output_objs:\n",
    "    print(f\"Output Source Object:\\n{'='*100}\")\n",
    "    obj.plot_grid()\n",
    "    print(f\"Segmented Objects:\\n{'='*100}\")\n",
    "    new_objs = extract_objects(obj, method='color', print_on_init=print_segmented_objects)\n",
    "    print(f\"Further segmented into {len(new_objs)} objects\\n\\n\")"
   ]
  },
  {
   "cell_type": "code",
   "execution_count": null,
   "metadata": {},
   "outputs": [],
   "source": []
  }
 ],
 "metadata": {
  "kernelspec": {
   "display_name": "arc-291c",
   "language": "python",
   "name": "python3"
  },
  "language_info": {
   "codemirror_mode": {
    "name": "ipython",
    "version": 3
   },
   "file_extension": ".py",
   "mimetype": "text/x-python",
   "name": "python",
   "nbconvert_exporter": "python",
   "pygments_lexer": "ipython3",
   "version": "3.11.7"
  }
 },
 "nbformat": 4,
 "nbformat_minor": 2
}
