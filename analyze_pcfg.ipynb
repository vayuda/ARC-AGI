{
 "cells": [
  {
   "cell_type": "code",
   "execution_count": 1,
   "metadata": {},
   "outputs": [
    {
     "name": "stdout",
     "output_type": "stream",
     "text": [
      "Device: cuda\n"
     ]
    }
   ],
   "source": [
    "# Import dependencies\n",
    "import torch\n",
    "import torch.nn.functional as F\n",
    "\n",
    "import phog.pcfg_models as pcfg_models\n",
    "import phog.pcfg_loader as loader\n",
    "import source as source\n",
    "\n",
    "\n",
    "device = 'cuda' if torch.cuda.is_available() else 'cpu'\n",
    "print(f\"Device: {device}\")"
   ]
  },
  {
   "cell_type": "code",
   "execution_count": 2,
   "metadata": {},
   "outputs": [
    {
     "name": "stderr",
     "output_type": "stream",
     "text": [
      "C:\\Users\\lucas\\Desktop\\UCSD\\291C - Program Synthesis\\Project\\ARC-AGI\\phog\\pcfg_models\\pcfg_encoder.py:207: FutureWarning: You are using `torch.load` with `weights_only=False` (the current default value), which uses the default pickle module implicitly. It is possible to construct malicious pickle data which will execute arbitrary code during unpickling (See https://github.com/pytorch/pytorch/blob/main/SECURITY.md#untrusted-models for more details). In a future release, the default value for `weights_only` will be flipped to `True`. This limits the functions that could be executed during unpickling. Arbitrary objects will no longer be allowed to be loaded via this mode unless they are explicitly allowlisted by the user via `torch.serialization.add_safe_globals`. We recommend you start setting `weights_only=True` for any use case where you don't have full control of the loaded file. Please open an issue on GitHub for any issues related to this experimental feature.\n",
      "  checkpoint = torch.load(path, map_location=torch.device(device))\n",
      "C:\\Users\\lucas\\Desktop\\UCSD\\291C - Program Synthesis\\Project\\ARC-AGI\\image_encoder\\v2_trainer\\vision_transformer_v2.py:222: FutureWarning: You are using `torch.load` with `weights_only=False` (the current default value), which uses the default pickle module implicitly. It is possible to construct malicious pickle data which will execute arbitrary code during unpickling (See https://github.com/pytorch/pytorch/blob/main/SECURITY.md#untrusted-models for more details). In a future release, the default value for `weights_only` will be flipped to `True`. This limits the functions that could be executed during unpickling. Arbitrary objects will no longer be allowed to be loaded via this mode unless they are explicitly allowlisted by the user via `torch.serialization.add_safe_globals`. We recommend you start setting `weights_only=True` for any use case where you don't have full control of the loaded file. Please open an issue on GitHub for any issues related to this experimental feature.\n",
      "  checkpoint = torch.load(path, map_location=torch.device(device))\n"
     ]
    },
    {
     "name": "stdout",
     "output_type": "stream",
     "text": [
      "Vision Transformer instantiated with 398,144 parameters using Sinusoidal encodings.\n",
      "PCFG encoder instantiated with 202,880 parameters.\n"
     ]
    }
   ],
   "source": [
    "loader_params = {\n",
    "    'datafolder': 'training',\n",
    "    'batch_size': 1,\n",
    "    'shuffle': True,\n",
    "    'only_inputs': True,\n",
    "    'print_steps': True,\n",
    "    'moves_per_step': 1,\n",
    "    'max_steps': 1,\n",
    "    'p_use_base': 0.25,\n",
    "}\n",
    "data_yielder = loader.get_pcfg_datayielder(**loader_params)\n",
    "\n",
    "pcfg_filename = 'pcfg_encoder_20241204_183640.pth'\n",
    "pcfg_encoder = pcfg_models.PCFG_Encoder.load_model(f\"phog/trained_pcfg_models/{pcfg_filename}\", print_statements=True, device=device)"
   ]
  },
  {
   "cell_type": "code",
   "execution_count": 3,
   "metadata": {},
   "outputs": [],
   "source": [
    "def embed_input(input, pcfg_encoder, use_grads, device):\n",
    "    x = torch.zeros((len(input), pcfg_encoder.model_params['n_embd']), device=device)\n",
    "    special_tokens = pcfg_encoder.get_special_tokens(device)   # cls_dsl, cls_obj, pad, sep\n",
    "    \n",
    "    try:\n",
    "        first_pad = input[:16].index('<PAD>')\n",
    "    except ValueError:\n",
    "        first_pad = 16\n",
    "    \n",
    "    for i, obj in enumerate(input):\n",
    "        if obj == \"<PAD>\":\n",
    "            x[i, :] = special_tokens[2, :]\n",
    "        elif obj == \"<SEP>\":\n",
    "            x[i, :] = special_tokens[3, :]\n",
    "        elif isinstance(obj, source.ARC_Object):\n",
    "            obj.set_embedding(pcfg_encoder.embedding_model, use_grads=use_grads)\n",
    "            x[i, :] = obj.embedding.to(device)\n",
    "        else:\n",
    "            raise NameError(\"Input contains object that is not '<PAD>', '<SEP>', or an ARC_Object.\")\n",
    "    x = torch.cat((special_tokens[:2, :], x), dim=0)\n",
    "    return x, first_pad"
   ]
  },
  {
   "cell_type": "code",
   "execution_count": 4,
   "metadata": {},
   "outputs": [
    {
     "name": "stdout",
     "output_type": "stream",
     "text": [
      "Problem ID: 1e32b0e9-input-0, [1/1]\n",
      "Transformation applied: color on objects.\n",
      "Input:\n"
     ]
    },
    {
     "data": {
      "image/png": "[encoded data removed]",
      "text/plain": [
       "<Figure size 300x300 with 1 Axes>"
      ]
     },
     "metadata": {},
     "output_type": "display_data"
    },
    {
     "name": "stdout",
     "output_type": "stream",
     "text": [
      "Output:\n"
     ]
    },
    {
     "data": {
      "image/png": "[encoded data removed]",
      "text/plain": [
       "<Figure size 300x300 with 1 Axes>"
      ]
     },
     "metadata": {},
     "output_type": "display_data"
    },
    {
     "name": "stdout",
     "output_type": "stream",
     "text": [
      "      draw_line: 0.285\n",
      " copy_translate: 0.246\n",
      "      translate: 0.179\n",
      "          color: 0.136\n",
      "         rotate: 0.116\n",
      "           flip: 0.028\n",
      "        recolor: 0.005\n",
      "         delete: 0.003\n",
      "    single_copy: 0.003\n",
      "\n",
      "Problem ID: f8a8fe49-input-0, [1/1]\n",
      "Transformation applied: recolor on base.\n",
      "Input:\n"
     ]
    },
    {
     "data": {
      "image/png": "[encoded data removed]",
      "text/plain": [
       "<Figure size 300x300 with 1 Axes>"
      ]
     },
     "metadata": {},
     "output_type": "display_data"
    },
    {
     "name": "stdout",
     "output_type": "stream",
     "text": [
      "Output:\n"
     ]
    },
    {
     "data": {
      "image/png": "[encoded data removed]",
      "text/plain": [
       "<Figure size 300x300 with 1 Axes>"
      ]
     },
     "metadata": {},
     "output_type": "display_data"
    },
    {
     "name": "stdout",
     "output_type": "stream",
     "text": [
      "      draw_line: 0.285\n",
      " copy_translate: 0.247\n",
      "      translate: 0.179\n",
      "          color: 0.136\n",
      "         rotate: 0.115\n",
      "           flip: 0.028\n",
      "        recolor: 0.005\n",
      "         delete: 0.003\n",
      "    single_copy: 0.003\n",
      "\n",
      "Problem ID: cdecee7f-input-2, [1/1]\n",
      "Transformation applied: copy_translate on objects.\n",
      "Input:\n"
     ]
    },
    {
     "data": {
      "image/png": "[encoded data removed]",
      "text/plain": [
       "<Figure size 300x300 with 1 Axes>"
      ]
     },
     "metadata": {},
     "output_type": "display_data"
    },
    {
     "name": "stdout",
     "output_type": "stream",
     "text": [
      "Output:\n"
     ]
    },
    {
     "data": {
      "image/png": "[encoded data removed]",
      "text/plain": [
       "<Figure size 300x300 with 1 Axes>"
      ]
     },
     "metadata": {},
     "output_type": "display_data"
    },
    {
     "name": "stdout",
     "output_type": "stream",
     "text": [
      "      draw_line: 0.284\n",
      " copy_translate: 0.247\n",
      "      translate: 0.179\n",
      "          color: 0.137\n",
      "         rotate: 0.115\n",
      "           flip: 0.028\n",
      "        recolor: 0.005\n",
      "         delete: 0.003\n",
      "    single_copy: 0.003\n",
      "\n",
      "Problem ID: 469497ad-input-1, [1/1]\n",
      "Transformation applied: draw_line on objects.\n",
      "Input:\n"
     ]
    },
    {
     "data": {
      "image/png": "[encoded data removed]",
      "text/plain": [
       "<Figure size 300x300 with 1 Axes>"
      ]
     },
     "metadata": {},
     "output_type": "display_data"
    },
    {
     "name": "stdout",
     "output_type": "stream",
     "text": [
      "Output:\n"
     ]
    },
    {
     "data": {
      "image/png": "[encoded data removed]",
      "text/plain": [
       "<Figure size 300x300 with 1 Axes>"
      ]
     },
     "metadata": {},
     "output_type": "display_data"
    },
    {
     "name": "stdout",
     "output_type": "stream",
     "text": [
      "      draw_line: 0.285\n",
      " copy_translate: 0.246\n",
      "      translate: 0.180\n",
      "          color: 0.135\n",
      "         rotate: 0.116\n",
      "           flip: 0.028\n",
      "        recolor: 0.005\n",
      "         delete: 0.003\n",
      "    single_copy: 0.003\n",
      "\n",
      "Problem ID: 253bf280-input-3, [1/1]\n",
      "Transformation applied: draw_line on objects.\n",
      "Input:\n"
     ]
    },
    {
     "data": {
      "image/png": "[encoded data removed]",
      "text/plain": [
       "<Figure size 300x300 with 1 Axes>"
      ]
     },
     "metadata": {},
     "output_type": "display_data"
    },
    {
     "name": "stdout",
     "output_type": "stream",
     "text": [
      "Output:\n"
     ]
    },
    {
     "data": {
      "image/png": "[encoded data removed]",
      "text/plain": [
       "<Figure size 300x300 with 1 Axes>"
      ]
     },
     "metadata": {},
     "output_type": "display_data"
    },
    {
     "name": "stdout",
     "output_type": "stream",
     "text": [
      "      draw_line: 0.285\n",
      " copy_translate: 0.247\n",
      "      translate: 0.180\n",
      "          color: 0.134\n",
      "         rotate: 0.116\n",
      "           flip: 0.028\n",
      "        recolor: 0.005\n",
      "         delete: 0.003\n",
      "    single_copy: 0.003\n",
      "\n"
     ]
    }
   ],
   "source": [
    "print_samples = loader_params['print_steps']\n",
    "ftoi = pcfg_encoder.dsl_mapping\n",
    "itof = {value: key.__name__ for key, value in ftoi.items()}\n",
    "\n",
    "for i in range(5):\n",
    "    try:\n",
    "        key, input, label, obj_indices = next(data_yielder)\n",
    "    except Exception as e:\n",
    "        print(f\"Exception raised: {e}\")\n",
    "        continue\n",
    "    \n",
    "    x, first_pad = embed_input(input, pcfg_encoder, use_grads=not pcfg_encoder.freeze_emb_model, device=device)\n",
    "    dsl_cls, obj_att = pcfg_encoder(x)\n",
    "    obj_att = obj_att[2:first_pad + 2]\n",
    "\n",
    "    dsl_cls = F.softmax(dsl_cls, dim=-1).to('cpu').tolist()\n",
    "    obj_att = F.softmax(obj_att, dim=-1).to('cpu')\n",
    "\n",
    "    dsl_labels = [(val, itof[i]) for i, val in enumerate(dsl_cls)]\n",
    "    dsl_labels.sort(reverse=True)\n",
    "    for v, f in dsl_labels:\n",
    "        print(f\"{f:>15}: {v:.3f}\")\n",
    "    \n",
    "\n",
    "    print(f\"\")"
   ]
  }
 ],
 "metadata": {
  "kernelspec": {
   "display_name": "arc-291c",
   "language": "python",
   "name": "python3"
  },
  "language_info": {
   "codemirror_mode": {
    "name": "ipython",
    "version": 3
   },
   "file_extension": ".py",
   "mimetype": "text/x-python",
   "name": "python",
   "nbconvert_exporter": "python",
   "pygments_lexer": "ipython3",
   "version": "3.11.7"
  }
 },
 "nbformat": 4,
 "nbformat_minor": 2
}
