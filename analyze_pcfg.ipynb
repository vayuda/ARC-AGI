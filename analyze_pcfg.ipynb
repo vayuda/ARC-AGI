{
 "cells": [
  {
   "cell_type": "code",
   "execution_count": 1,
   "metadata": {},
   "outputs": [
    {
     "name": "stdout",
     "output_type": "stream",
     "text": [
      "Device: cuda\n"
     ]
    }
   ],
   "source": [
    "# Import dependencies\n",
    "import torch\n",
    "import torch.nn.functional as F\n",
    "\n",
    "import phog.pcfg_models as pcfg_models\n",
    "import phog.pcfg_loader as loader\n",
    "import source as source\n",
    "\n",
    "\n",
    "device = 'cuda' if torch.cuda.is_available() else 'cpu'\n",
    "print(f\"Device: {device}\")"
   ]
  },
  {
   "cell_type": "code",
   "execution_count": 2,
   "metadata": {},
   "outputs": [
    {
     "name": "stderr",
     "output_type": "stream",
     "text": [
      "C:\\Users\\lucas\\Desktop\\UCSD\\291C - Program Synthesis\\Project\\ARC-AGI\\phog\\pcfg_models\\pcfg_encoder.py:203: FutureWarning: You are using `torch.load` with `weights_only=False` (the current default value), which uses the default pickle module implicitly. It is possible to construct malicious pickle data which will execute arbitrary code during unpickling (See https://github.com/pytorch/pytorch/blob/main/SECURITY.md#untrusted-models for more details). In a future release, the default value for `weights_only` will be flipped to `True`. This limits the functions that could be executed during unpickling. Arbitrary objects will no longer be allowed to be loaded via this mode unless they are explicitly allowlisted by the user via `torch.serialization.add_safe_globals`. We recommend you start setting `weights_only=True` for any use case where you don't have full control of the loaded file. Please open an issue on GitHub for any issues related to this experimental feature.\n",
      "  checkpoint = torch.load(path, map_location=torch.device(device))\n",
      "C:\\Users\\lucas\\Desktop\\UCSD\\291C - Program Synthesis\\Project\\ARC-AGI\\image_encoder\\transformers\\vision_transformer.py:275: FutureWarning: You are using `torch.load` with `weights_only=False` (the current default value), which uses the default pickle module implicitly. It is possible to construct malicious pickle data which will execute arbitrary code during unpickling (See https://github.com/pytorch/pytorch/blob/main/SECURITY.md#untrusted-models for more details). In a future release, the default value for `weights_only` will be flipped to `True`. This limits the functions that could be executed during unpickling. Arbitrary objects will no longer be allowed to be loaded via this mode unless they are explicitly allowlisted by the user via `torch.serialization.add_safe_globals`. We recommend you start setting `weights_only=True` for any use case where you don't have full control of the loaded file. Please open an issue on GitHub for any issues related to this experimental feature.\n",
      "  checkpoint = torch.load(path, map_location=torch.device(device))\n"
     ]
    },
    {
     "name": "stdout",
     "output_type": "stream",
     "text": [
      "Vision Transformer instantiated with 84,064 parameters using Sinusoidal encodings.\n",
      "PCFG encoder instantiated with 52,288 parameters.\n"
     ]
    }
   ],
   "source": [
    "# Import our data yielder\n",
    "data_folder = 'training'\n",
    "loader_params = {\n",
    "    'batch_size': 1,\n",
    "    'shuffle': True,\n",
    "    'only_inputs': True,\n",
    "    'print_steps': True,\n",
    "    'moves_per_step': 1,\n",
    "    'max_steps': 1,\n",
    "    'p_use_base': 0.25,\n",
    "}\n",
    "data_yielder = loader.get_pcfg_datayielder(data_folder, loader_params)\n",
    "# embedding_model = source.embedding.load_ViT(filename='vit_11-21-24_400k_v1.pth', device=device)\n",
    "\n",
    "pcfg_filename = 'pcfg_encoder_20241203_165657.pth'\n",
    "pcfg_encoder = pcfg_models.PCFG_Encoder.load_model(f\"phog/trained_pcfg_models/{pcfg_filename}\", print_statements=True, device=device)"
   ]
  },
  {
   "cell_type": "code",
   "execution_count": 3,
   "metadata": {},
   "outputs": [],
   "source": [
    "def embed_input(input, pcfg_encoder, use_grads, device):\n",
    "    x = torch.zeros((len(input), pcfg_encoder.model_params['n_embd']), device=device)\n",
    "    special_tokens = pcfg_encoder.get_special_tokens(device)   # cls_dsl, cls_obj, pad, sep\n",
    "    \n",
    "    try:\n",
    "        first_pad = input[:16].index('<PAD>')\n",
    "    except ValueError:\n",
    "        first_pad = 16\n",
    "    \n",
    "    for i, obj in enumerate(input):\n",
    "        if obj == \"<PAD>\":\n",
    "            x[i, :] = special_tokens[2, :]\n",
    "        elif obj == \"<SEP>\":\n",
    "            x[i, :] = special_tokens[3, :]\n",
    "        elif isinstance(obj, source.ARC_Object):\n",
    "            obj.set_embedding(pcfg_encoder.embedding_model, use_grads=use_grads)\n",
    "            x[i, :] = obj.embedding.to(device)\n",
    "        else:\n",
    "            raise NameError(\"Input contains object that is not '<PAD>', '<SEP>', or an ARC_Object.\")\n",
    "    x = torch.cat((special_tokens[:2, :], x), dim=0)\n",
    "    return x, first_pad"
   ]
  },
  {
   "cell_type": "code",
   "execution_count": 5,
   "metadata": {},
   "outputs": [
    {
     "name": "stdout",
     "output_type": "stream",
     "text": [
      "Problem ID: ae4f1146-input-0, [1/1]\n",
      "Transformation applied: draw_line on objects.\n",
      "Input:\n"
     ]
    },
    {
     "data": {
      "image/png": "[encoded data removed]",
      "text/plain": [
       "<Figure size 300x300 with 1 Axes>"
      ]
     },
     "metadata": {},
     "output_type": "display_data"
    },
    {
     "name": "stdout",
     "output_type": "stream",
     "text": [
      "Output:\n"
     ]
    },
    {
     "data": {
      "image/png": "[encoded data removed]",
      "text/plain": [
       "<Figure size 300x300 with 1 Axes>"
      ]
     },
     "metadata": {},
     "output_type": "display_data"
    },
    {
     "name": "stdout",
     "output_type": "stream",
     "text": [
      "      draw_line: 0.194\n",
      " copy_translate: 0.148\n",
      "          color: 0.113\n",
      "      translate: 0.110\n",
      "    single_copy: 0.103\n",
      "        recolor: 0.101\n",
      "         rotate: 0.094\n",
      "           flip: 0.080\n",
      "         delete: 0.058\n",
      "\n",
      "Problem ID: b527c5c6-input-1, [1/1]\n",
      "Transformation applied: copy_translate on objects.\n",
      "Input:\n"
     ]
    },
    {
     "data": {
      "image/png": "[encoded data removed]",
      "text/plain": [
       "<Figure size 300x300 with 1 Axes>"
      ]
     },
     "metadata": {},
     "output_type": "display_data"
    },
    {
     "name": "stdout",
     "output_type": "stream",
     "text": [
      "Output:\n"
     ]
    },
    {
     "data": {
      "image/png": "[encoded data removed]",
      "text/plain": [
       "<Figure size 300x300 with 1 Axes>"
      ]
     },
     "metadata": {},
     "output_type": "display_data"
    },
    {
     "name": "stdout",
     "output_type": "stream",
     "text": [
      "      draw_line: 0.192\n",
      " copy_translate: 0.145\n",
      "          color: 0.113\n",
      "      translate: 0.109\n",
      "        recolor: 0.103\n",
      "    single_copy: 0.101\n",
      "         rotate: 0.098\n",
      "           flip: 0.084\n",
      "         delete: 0.055\n",
      "\n",
      "Problem ID: e26a3af2-input-0, [1/1]\n",
      "Transformation applied: single_copy on objects.\n",
      "Input:\n"
     ]
    },
    {
     "data": {
      "image/png": "[encoded data removed]",
      "text/plain": [
       "<Figure size 300x300 with 1 Axes>"
      ]
     },
     "metadata": {},
     "output_type": "display_data"
    },
    {
     "name": "stdout",
     "output_type": "stream",
     "text": [
      "Output:\n"
     ]
    },
    {
     "data": {
      "image/png": "[encoded data removed]",
      "text/plain": [
       "<Figure size 300x300 with 1 Axes>"
      ]
     },
     "metadata": {},
     "output_type": "display_data"
    },
    {
     "name": "stdout",
     "output_type": "stream",
     "text": [
      "      draw_line: 0.173\n",
      " copy_translate: 0.155\n",
      "    single_copy: 0.116\n",
      "      translate: 0.113\n",
      "          color: 0.110\n",
      "        recolor: 0.096\n",
      "         delete: 0.087\n",
      "         rotate: 0.081\n",
      "           flip: 0.067\n",
      "\n",
      "Problem ID: e8593010-input-0, [1/1]\n",
      "Transformation applied: flip on objects.\n",
      "Input:\n"
     ]
    },
    {
     "data": {
      "image/png": "[encoded data removed]",
      "text/plain": [
       "<Figure size 300x300 with 1 Axes>"
      ]
     },
     "metadata": {},
     "output_type": "display_data"
    },
    {
     "name": "stdout",
     "output_type": "stream",
     "text": [
      "Output:\n"
     ]
    },
    {
     "data": {
      "image/png": "[encoded data removed]",
      "text/plain": [
       "<Figure size 300x300 with 1 Axes>"
      ]
     },
     "metadata": {},
     "output_type": "display_data"
    },
    {
     "name": "stdout",
     "output_type": "stream",
     "text": [
      "      draw_line: 0.191\n",
      " copy_translate: 0.142\n",
      "          color: 0.113\n",
      "      translate: 0.109\n",
      "        recolor: 0.104\n",
      "         rotate: 0.100\n",
      "    single_copy: 0.099\n",
      "           flip: 0.087\n",
      "         delete: 0.054\n",
      "\n",
      "Problem ID: 94f9d214-input-0, [1/1]\n",
      "Transformation applied: rotate on base.\n",
      "Input:\n"
     ]
    },
    {
     "data": {
      "image/png": "[encoded data removed]",
      "text/plain": [
       "<Figure size 300x300 with 1 Axes>"
      ]
     },
     "metadata": {},
     "output_type": "display_data"
    },
    {
     "name": "stdout",
     "output_type": "stream",
     "text": [
      "Output:\n"
     ]
    },
    {
     "data": {
      "image/png": "[encoded data removed]",
      "text/plain": [
       "<Figure size 300x300 with 1 Axes>"
      ]
     },
     "metadata": {},
     "output_type": "display_data"
    },
    {
     "name": "stdout",
     "output_type": "stream",
     "text": [
      "      draw_line: 0.194\n",
      " copy_translate: 0.147\n",
      "          color: 0.112\n",
      "      translate: 0.110\n",
      "    single_copy: 0.102\n",
      "        recolor: 0.101\n",
      "         rotate: 0.095\n",
      "           flip: 0.081\n",
      "         delete: 0.057\n",
      "\n"
     ]
    }
   ],
   "source": [
    "print_samples = loader_params['print_steps']\n",
    "ftoi = pcfg_encoder.dsl_mapping\n",
    "itof = {value: key.__name__ for key, value in ftoi.items()}\n",
    "\n",
    "for i in range(5):\n",
    "    try:\n",
    "        key, input, label, obj_indices = next(data_yielder)\n",
    "    except Exception as e:\n",
    "        print(f\"Exception raised: {e}\")\n",
    "        continue\n",
    "    \n",
    "    x, first_pad = embed_input(input, pcfg_encoder, use_grads=not pcfg_encoder.freeze_emb_model, device=device)\n",
    "    dsl_cls, obj_att = pcfg_encoder(x)\n",
    "    obj_att = obj_att[2:first_pad + 2]\n",
    "\n",
    "    dsl_cls = F.softmax(dsl_cls, dim=-1).to('cpu').tolist()\n",
    "    obj_att = F.softmax(obj_att, dim=-1).to('cpu')\n",
    "\n",
    "    dsl_labels = [(val, itof[i]) for i, val in enumerate(dsl_cls)]\n",
    "    dsl_labels.sort(reverse=True)\n",
    "    for v, f in dsl_labels:\n",
    "        print(f\"{f:>15}: {v:.3f}\")\n",
    "    \n",
    "\n",
    "    print(f\"\")"
   ]
  }
 ],
 "metadata": {
  "kernelspec": {
   "display_name": "arc-291c",
   "language": "python",
   "name": "python3"
  },
  "language_info": {
   "codemirror_mode": {
    "name": "ipython",
    "version": 3
   },
   "file_extension": ".py",
   "mimetype": "text/x-python",
   "name": "python",
   "nbconvert_exporter": "python",
   "pygments_lexer": "ipython3",
   "version": "3.11.7"
  }
 },
 "nbformat": 4,
 "nbformat_minor": 2
}
