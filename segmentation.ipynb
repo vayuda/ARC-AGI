{
 "cells": [
  {
   "cell_type": "markdown",
   "metadata": {
    "vscode": {
     "languageId": "plaintext"
    }
   },
   "source": [
    "# Segmentation Notebook\n",
    "---\n",
    "Notebook to experiment / compare various segmentation algorithms."
   ]
  },
  {
   "cell_type": "code",
   "execution_count": 1,
   "metadata": {},
   "outputs": [],
   "source": [
    "import numpy as np\n",
    "import matplotlib.pyplot as plt\n",
    "\n",
    "import torch\n",
    "from torch.utils.data import DataLoader\n",
    "\n",
    "from source import *"
   ]
  },
  {
   "cell_type": "code",
   "execution_count": 2,
   "metadata": {},
   "outputs": [
    {
     "name": "stdout",
     "output_type": "stream",
     "text": [
      "Device: cpu\n"
     ]
    },
    {
     "name": "stderr",
     "output_type": "stream",
     "text": [
      "C:\\Users\\lucas\\Desktop\\UCSD\\291C - Program Synthesis\\Project\\ARC-AGI\\image_encoder\\transformers\\vision_transformer.py:224: FutureWarning: You are using `torch.load` with `weights_only=False` (the current default value), which uses the default pickle module implicitly. It is possible to construct malicious pickle data which will execute arbitrary code during unpickling (See https://github.com/pytorch/pytorch/blob/main/SECURITY.md#untrusted-models for more details). In a future release, the default value for `weights_only` will be flipped to `True`. This limits the functions that could be executed during unpickling. Arbitrary objects will no longer be allowed to be loaded via this mode unless they are explicitly allowlisted by the user via `torch.serialization.add_safe_globals`. We recommend you start setting `weights_only=True` for any use case where you don't have full control of the loaded file. Please open an issue on GitHub for any issues related to this experimental feature.\n",
      "  checkpoint = torch.load(path, map_location=torch.device(device))\n"
     ]
    },
    {
     "name": "stdout",
     "output_type": "stream",
     "text": [
      "Vision Transformer instantiated with 125,024 parameters using Sinusoidal encodings.\n",
      "Model loaded from image_encoder/trained_models/vit_11-18_sinusoid125k.pth on cpu\n"
     ]
    }
   ],
   "source": [
    "# Optional code to load in your ViT model for embeddings\n",
    "device = 'cuda' if torch.cuda.is_available() else 'cpu'\n",
    "print(f\"Device: {device}\")\n",
    "embedding_model = embedding.load_ViT(device=device)\n",
    "\n",
    "# If you want to ignore, just set embedding_model to None\n",
    "# embedding_model = None"
   ]
  },
  {
   "cell_type": "code",
   "execution_count": 3,
   "metadata": {},
   "outputs": [],
   "source": [
    "train_dataset = load_dataset(mode='training')\n",
    "train_dataloader = DataLoader(train_dataset, batch_size=1, shuffle=True)\n",
    "test_dataset = load_dataset(mode='evaluation')\n",
    "test_dataloader = DataLoader(test_dataset, batch_size=1, shuffle=True)\n",
    "\n",
    "\n",
    "my_objs = dict()\n",
    "last_id = None"
   ]
  },
  {
   "cell_type": "code",
   "execution_count": 17,
   "metadata": {},
   "outputs": [
    {
     "name": "stdout",
     "output_type": "stream",
     "text": [
      "Problem 6e19193c:\n",
      "====================================================================================================\n",
      "\n",
      "Input Image:\n"
     ]
    },
    {
     "data": {
      "image/png": "[encoded data removed]",
      "text/plain": [
       "<Figure size 300x300 with 1 Axes>"
      ]
     },
     "metadata": {},
     "output_type": "display_data"
    },
    {
     "name": "stdout",
     "output_type": "stream",
     "text": [
      "\n",
      "Output Image:\n"
     ]
    },
    {
     "data": {
      "image/png": "[encoded data removed]",
      "text/plain": [
       "<Figure size 300x300 with 1 Axes>"
      ]
     },
     "metadata": {},
     "output_type": "display_data"
    },
    {
     "name": "stdout",
     "output_type": "stream",
     "text": [
      "Inputs further segmented into 2 objects.\n",
      "Outputs further segmented into 4 objects.\n"
     ]
    }
   ],
   "source": [
    "# Main loop processing data\n",
    "for i, data in enumerate(train_dataloader):\n",
    "    id = data['id'][0]\n",
    "    last_id = id\n",
    "    train = data['train']\n",
    "    test = data['test']\n",
    "    \n",
    "    for t in train:\n",
    "        # Will work within numpy for simplicity\n",
    "        input_image = t['input'].squeeze(0).numpy()\n",
    "        output_image = t['output'].squeeze(0).numpy()\n",
    "\n",
    "        # Convert to ARC_Objects and add to our dict\n",
    "        input_object = ARC_Object(image=input_image, mask=np.ones_like(input_image), parent=None, embedding_model=embedding_model)\n",
    "        output_object = ARC_Object(image=output_image, mask=np.ones_like(output_image), parent=None, embedding_model=embedding_model)\n",
    "        my_objs[id] = {'input': [input_object], 'output': [output_object]}\n",
    "\n",
    "        # Print out problem (input and output)\n",
    "        print(f\"Problem {id}:\\n{'='*100}\")\n",
    "        print(\"\\nInput Image:\")\n",
    "        plot_image_and_mask(input_image)\n",
    "        print(\"\\nOutput Image:\")\n",
    "        plot_image_and_mask(output_image)\n",
    "        \n",
    "        # Extract objects using segmentation\n",
    "        input_extraction = extract_objects(input_object, method='contour_scale', embedding_model=embedding_model)\n",
    "        output_extraction  = extract_objects(output_object, method='contour_scale', embedding_model=embedding_model)\n",
    "        print(f\"Inputs further segmented into {len(input_extraction)} objects.\\nOutputs further segmented into {len(output_extraction)} objects.\")\n",
    "        # Add to our dict\n",
    "        my_objs[id]['input'].extend(input_extraction)\n",
    "        my_objs[id]['output'].extend(output_extraction)\n",
    "        break\n",
    "    break"
   ]
  },
  {
   "cell_type": "code",
   "execution_count": 5,
   "metadata": {},
   "outputs": [],
   "source": [
    "def plot_segmented_objects(problem_id):\n",
    "    input_objs = my_objs[problem_id]['input']\n",
    "    output_objs = my_objs[problem_id]['output']\n",
    "    print_segmented_objects = False\n",
    "\n",
    "    for obj in input_objs:\n",
    "        print(f\"Input Source Object:\\n{'='*100}\")\n",
    "        obj.plot_grid()\n",
    "        print(f\"Segmented Objects:\\n{'='*100}\")\n",
    "        new_objs = extract_objects(obj, method='color', print_on_init=print_segmented_objects)\n",
    "        print(f\"Further segmented into {len(new_objs)} objects\\n\\n\")\n",
    "\n",
    "    print(f\"\\n\\n\")\n",
    "    for obj in output_objs:\n",
    "        print(f\"Output Source Object:\\n{'='*100}\")\n",
    "        obj.plot_grid()\n",
    "        print(f\"Segmented Objects:\\n{'='*100}\")\n",
    "        new_objs = extract_objects(obj, method='color', print_on_init=print_segmented_objects)\n",
    "        print(f\"Further segmented into {len(new_objs)} objects\\n\\n\")\n",
    "\n",
    "# problem_id = \"178fcbfb\"\n",
    "problem_id = last_id\n",
    "# plot_segmented_objects(problem_id)"
   ]
  },
  {
   "cell_type": "code",
   "execution_count": 18,
   "metadata": {},
   "outputs": [],
   "source": [
    "obj_pointers = []\n",
    "obj_tensors = []\n",
    "\n",
    "for id in my_objs:\n",
    "    for obj in my_objs[id]['input']:\n",
    "        obj_pointers.append(obj)\n",
    "        obj_tensors.append(obj.embedding)\n",
    "    for obj in my_objs[id]['output']:\n",
    "        obj_pointers.append(obj)\n",
    "        obj_tensors.append(obj.embedding)"
   ]
  },
  {
   "cell_type": "code",
   "execution_count": 21,
   "metadata": {},
   "outputs": [],
   "source": [
    "def get_cosine_similarity(vector, tensors, k=5):\n",
    "    tensor = torch.stack(tensors, dim=0)\n",
    "    similarity = torch.nn.functional.cosine_similarity(vector.unsqueeze(0), tensor, dim=1)\n",
    "    topk_similarity, topk_indices = torch.topk(similarity, k=k, dim=0)\n",
    "    return topk_similarity, topk_indices"
   ]
  },
  {
   "cell_type": "code",
   "execution_count": 23,
   "metadata": {},
   "outputs": [
    {
     "name": "stdout",
     "output_type": "stream",
     "text": [
      "Target Object @ ID: 25\n"
     ]
    },
    {
     "data": {
      "image/png": "[encoded data removed]",
      "text/plain": [
       "<Figure size 300x300 with 1 Axes>"
      ]
     },
     "metadata": {},
     "output_type": "display_data"
    },
    {
     "name": "stdout",
     "output_type": "stream",
     "text": [
      "\n",
      "\n",
      "\n",
      "tensor(0.9999)\n"
     ]
    },
    {
     "data": {
      "image/png": "[encoded data removed]",
      "text/plain": [
       "<Figure size 300x300 with 1 Axes>"
      ]
     },
     "metadata": {},
     "output_type": "display_data"
    },
    {
     "name": "stdout",
     "output_type": "stream",
     "text": [
      "tensor(0.9963)\n"
     ]
    },
    {
     "data": {
      "image/png": "[encoded data removed]",
      "text/plain": [
       "<Figure size 300x300 with 1 Axes>"
      ]
     },
     "metadata": {},
     "output_type": "display_data"
    },
    {
     "name": "stdout",
     "output_type": "stream",
     "text": [
      "tensor(0.9958)\n"
     ]
    },
    {
     "data": {
      "image/png": "[encoded data removed]",
      "text/plain": [
       "<Figure size 300x300 with 1 Axes>"
      ]
     },
     "metadata": {},
     "output_type": "display_data"
    },
    {
     "name": "stdout",
     "output_type": "stream",
     "text": [
      "tensor(0.9947)\n"
     ]
    },
    {
     "data": {
      "image/png": "[encoded data removed]",
      "text/plain": [
       "<Figure size 300x300 with 1 Axes>"
      ]
     },
     "metadata": {},
     "output_type": "display_data"
    }
   ],
   "source": [
    "target_id = 25\n",
    "print(f\"Target Object @ ID: {target_id}\")\n",
    "obj_pointers[target_id].plot_grid()\n",
    "print(f\"\\n\\n\")\n",
    "\n",
    "sim, indices = get_cosine_similarity(obj_tensors[target_id], obj_tensors, k=5)\n",
    "for i, index in enumerate(indices):\n",
    "    if index == target_id:\n",
    "        continue\n",
    "    print(sim[i])\n",
    "    obj_pointers[i].plot_grid()"
   ]
  }
 ],
 "metadata": {
  "kernelspec": {
   "display_name": "arc-291c",
   "language": "python",
   "name": "python3"
  },
  "language_info": {
   "codemirror_mode": {
    "name": "ipython",
    "version": 3
   },
   "file_extension": ".py",
   "mimetype": "text/x-python",
   "name": "python",
   "nbconvert_exporter": "python",
   "pygments_lexer": "ipython3",
   "version": "3.11.7"
  }
 },
 "nbformat": 4,
 "nbformat_minor": 2
}
