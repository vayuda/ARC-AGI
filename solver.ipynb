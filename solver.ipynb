{
 "cells": [
  {
   "cell_type": "code",
   "execution_count": null,
   "metadata": {},
   "outputs": [],
   "source": [
    "import numpy as np\n",
    "from source import *\n",
    "from phog.synthetic_generator import _flatten_objects\n",
    "from solver.solver import solve"
   ]
  },
  {
   "cell_type": "code",
   "execution_count": null,
   "metadata": {},
   "outputs": [],
   "source": [
    "problem = quick_load('1caeab9d',dir='training')\n",
    "# visualize_problem('1caeab9d')"
   ]
  },
  {
   "cell_type": "code",
   "execution_count": null,
   "metadata": {},
   "outputs": [],
   "source": [
    "arcobj = [(extract_objects(example['input'], method='monochrome_contour'),extract_objects(example['output'],'monochrome_contour')) for example in problem[0]]\n",
    "relation_graph = RelationGraph(arcobj)\n",
    "input_obj = problem[0][2]['input']\n",
    "# input_obj.plot_grid()\n",
    "output_obj = problem[0][2]['output']\n",
    "# new_objs = []\n",
    "# for o in relation_graph.objects[2][0]:\n",
    "#     functions = relation_graph.get_args(translate, o)\n",
    "#     new_o = [func(o) for func in functions]\n",
    "#     new_objs.extend(new_o)\n",
    "# res = _flatten_objects(input_obj, new_objs)\n",
    "# res.plot_grid()"
   ]
  },
  {
   "cell_type": "code",
   "execution_count": null,
   "metadata": {},
   "outputs": [],
   "source": [
    "solution = solve(input_obj, output_obj, relation_graph.objects[0][0], relation_graph)\n",
    "obj = ARC_Object(solution.grid, np.ones_like(solution.grid))\n",
    "obj.plot_grid()"
   ]
  }
 ],
 "metadata": {
  "kernelspec": {
   "display_name": "Python 3",
   "language": "python",
   "name": "python3"
  },
  "language_info": {
   "codemirror_mode": {
    "name": "ipython",
    "version": 3
   },
   "file_extension": ".py",
   "mimetype": "text/x-python",
   "name": "python",
   "nbconvert_exporter": "python",
   "pygments_lexer": "ipython3",
   "version": "3.12.3"
  }
 },
 "nbformat": 4,
 "nbformat_minor": 2
}
