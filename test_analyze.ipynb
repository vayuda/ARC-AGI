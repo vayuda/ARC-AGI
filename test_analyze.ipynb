{
 "cells": [
  {
   "cell_type": "code",
   "execution_count": null,
   "metadata": {},
   "outputs": [],
   "source": [
    "import numpy as np\n",
    "from source import *\n",
    "from functools import reduce"
   ]
  },
  {
   "cell_type": "code",
   "execution_count": null,
   "metadata": {},
   "outputs": [],
   "source": [
    "def same_obj(obj1: ARC_Object, obj2: ARC_Object):\n",
    "    if obj1 is None or obj2 is None:\n",
    "        return False\n",
    "    return np.array_equal(obj1.grid, obj2.grid)\n",
    "\n",
    "class ListProperties:\n",
    "    def __init__(self, objs: List[ARC_Object]):\n",
    "        self.objs = sorted(objs, key=lambda o: o.top_left)\n",
    "        self.num_objs = len(self.objs)\n",
    "        self.most_common = most_common(self.objs)\n",
    "        self.majority = majority(self.objs)\n",
    "        self.and_all = reduce(and_obj, self.objs)\n",
    "        self.or_all = reduce(or_obj, self.objs)\n",
    "        self.xor_all = reduce(xor_obj, self.objs)\n",
    "\n",
    "class CompareObjects:\n",
    "    def __init__(self, obj1: ARC_Object, obj2: ARC_Object):\n",
    "        self.obj1 = obj1\n",
    "        self.obj2 = obj2\n",
    "        self.same_grid = same_obj(obj1, obj2)\n",
    "        self.same_pos = obj1.top_left == obj2.top_left\n",
    "        self.same_color = dominant_color(obj1) == dominant_color(obj2)\n",
    "        self.same_size = (obj1.height == obj2.height) and (obj1.width == obj2.width)\n",
    "\n",
    "class CompareLists:\n",
    "    def __init__(self, lst1: ListProperties, lst2: ListProperties):\n",
    "        self.lst1 = lst1\n",
    "        self.lst2 = lst2\n",
    "        self.compare_objs = [CompareObjects(o1, o2) for o1, o2 in zip(lst1.objs, lst2.objs)]\n",
    "        self.same_len = lst1.num_objs == lst2.num_objs\n",
    "        self.same_most_common = same_obj(lst1.most_common, lst2.most_common)\n",
    "        self.same_majority = same_obj(lst1.majority, lst2.majority)\n",
    "        self.same_and = same_obj(lst1.and_all, lst2.and_all)\n",
    "        self.same_or = same_obj(lst1.or_all, lst2.or_all)\n",
    "        self.same_xor = same_obj(lst1.xor_all, lst2.xor_all)"
   ]
  },
  {
   "cell_type": "code",
   "execution_count": null,
   "metadata": {},
   "outputs": [],
   "source": [
    "train_objs, test_obj = quick_load('1caeab9d', 'training')\n",
    "in_children = extract_objects(train_objs[0]['input'], method='color')\n",
    "out_children = extract_objects(train_objs[0]['output'], method='color')\n",
    "train_objs[0]['input'].plot_grid()\n",
    "train_objs[0]['output'].plot_grid()\n",
    "\n",
    "in1_p = ListProperties(in_children)\n",
    "out1_p = ListProperties(out_children)\n",
    "\n",
    "analyze1 = CompareLists(in1_p, out1_p)\n",
    "\n",
    "for r in analyze1.compare_objs:\n",
    "    r.obj1.plot_grid()\n",
    "    r.obj2.plot_grid()\n",
    "    print(r.obj1.top_left, r.obj2.top_left)\n",
    "    print(r.same_grid, r.same_pos, r.same_color, r.same_size)\n",
    "\n",
    "print(analyze1.same_len, analyze1.same_most_common, analyze1.same_majority, analyze1.same_and, analyze1.same_or, analyze1.same_xor)\n",
    "\n",
    "# for c in in_children:\n",
    "#     c.plot_grid()\n",
    "# print('Out:')\n",
    "# for c in out_children:\n",
    "#     c.plot_grid()"
   ]
  }
 ],
 "metadata": {
  "kernelspec": {
   "display_name": "Python 3",
   "language": "python",
   "name": "python3"
  },
  "language_info": {
   "codemirror_mode": {
    "name": "ipython",
    "version": 3
   },
   "file_extension": ".py",
   "mimetype": "text/x-python",
   "name": "python",
   "nbconvert_exporter": "python",
   "pygments_lexer": "ipython3",
   "version": "3.12.3"
  }
 },
 "nbformat": 4,
 "nbformat_minor": 2
}
